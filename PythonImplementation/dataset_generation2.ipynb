{
 "cells": [
  {
   "cell_type": "code",
   "execution_count": null,
   "metadata": {},
   "outputs": [],
   "source": []
  },
  {
   "cell_type": "code",
   "execution_count": 1,
   "metadata": {},
   "outputs": [],
   "source": [
    "import RNA\n",
    "import numpy as np\n",
    "\n",
    "from sklearn import preprocessing\n",
    "min_max_scaler = preprocessing.MinMaxScaler()\n",
    "\n",
    "import subprocess\n",
    "import matplotlib.pyplot as plt\n",
    "from PIL import Image\n",
    "from IPython.display import SVG, display\n",
    "from collections import Counter\n",
    "from collections import defaultdict\n",
    "\n",
    "import difflib\n",
    "import sys\n",
    "import os\n",
    "import random\n",
    "import string\n",
    "import time\n",
    "\n",
    "# from helper import print_moves\n",
    "\n",
    "import pandas as pd\n",
    "\n",
    "sys.path.append('../')\n",
    "from pretty_print_path import print_moves\n",
    "import findpath_librna\n",
    "import findpath\n"
   ]
  },
  {
   "cell_type": "code",
   "execution_count": 2,
   "metadata": {},
   "outputs": [
    {
     "name": "stdout",
     "output_type": "stream",
     "text": [
      "100 200 300 400 500 600 700 800 900 1000 1100 1200 1300 1400 "
     ]
    }
   ],
   "source": [
    "# find a sequence + structure pair as example (good sw-multiplier scaling)\n",
    "\n",
    "sys.path.append('./indirect')\n",
    "import helper\n",
    "target_count = 2000\n",
    "x = 100\n",
    "min_bp_dist = 14\n",
    "\n",
    "def detect_local_minimum(fc, structure):\n",
    "    # perform gradient walk from sample to determine direct local minimum\n",
    "    pt = RNA.IntVector(RNA.ptable(structure))\n",
    "    fc.path(pt, 0, RNA.PATH_DEFAULT | RNA.PATH_NO_TRANSITION_OUTPUT)\n",
    "    return RNA.db_from_ptable(list(pt))\n",
    "\n",
    "# check confirmations for merging\n",
    "s_list = []\n",
    "while (len(s_list) < target_count):\n",
    "\n",
    "    # RNAsubopt wrapper\n",
    "    sequence, s1, s2 = helper.generate_structures(x)\n",
    "\n",
    "    # overwrite s1 s2 to local minimum\n",
    "    fc = RNA.fold_compound(sequence)\n",
    "    s1 = detect_local_minimum(fc, s1)\n",
    "    s2 = detect_local_minimum(fc, s2)\n",
    "    bp_dist = RNA.bp_distance(s1, s2)\n",
    "\n",
    "    if bp_dist < min_bp_dist:\n",
    "        continue\n",
    "\n",
    "    # ensure that we only process paths which are not trivial to process - if we get the best result at a \n",
    "    # low search width, its probably not a good candidate for training\n",
    "\n",
    "    sws = [0.5, 1, 2]\n",
    "    results = []\n",
    "    for sw in sws:\n",
    "        fp = findpath.findpath_single(sequence, s1, s2, search_width_multiplier=sw, mp=True)\n",
    "        result = fp.get_en()/100.0\n",
    "        results.append(result)\n",
    "        \n",
    "    if results[0] != results[1] and results[1] != results[2]:\n",
    "        \n",
    "        # print(f\"sequence = '{sequence}'\")\n",
    "        # print(f\"s1       = '{s1}'\")\n",
    "        # print(f\"s2       = '{s2}'\")\n",
    "        # print (results)\n",
    "        \n",
    "        s_list.append((sequence, s1, s2))\n",
    "\n",
    "        if len(s_list)%100 == 0:\n",
    "            print (len(s_list), end=' ')\n",
    "\n",
    "            # save seqs every 10 iterations.\n",
    "            df = pd.DataFrame(s_list, columns=['sequence', 's1', 's2']).set_index('sequence')\n",
    "            filename = f'./dataset_100B_large.csv'\n",
    "            df.to_csv(filename)\n",
    "\n",
    "        \n",
    "\n",
    "    # break"
   ]
  },
  {
   "cell_type": "code",
   "execution_count": 2,
   "metadata": {},
   "outputs": [
    {
     "ename": "NameError",
     "evalue": "name 's_list' is not defined",
     "output_type": "error",
     "traceback": [
      "\u001b[0;31m---------------------------------------------------------------------------\u001b[0m",
      "\u001b[0;31mNameError\u001b[0m                                 Traceback (most recent call last)",
      "\u001b[0;32m<ipython-input-2-2dda71982c8c>\u001b[0m in \u001b[0;36m<module>\u001b[0;34m\u001b[0m\n\u001b[0;32m----> 1\u001b[0;31m \u001b[0mdf\u001b[0m \u001b[0;34m=\u001b[0m \u001b[0mpd\u001b[0m\u001b[0;34m.\u001b[0m\u001b[0mDataFrame\u001b[0m\u001b[0;34m(\u001b[0m\u001b[0ms_list\u001b[0m\u001b[0;34m,\u001b[0m \u001b[0mcolumns\u001b[0m\u001b[0;34m=\u001b[0m\u001b[0;34m[\u001b[0m\u001b[0;34m'sequence'\u001b[0m\u001b[0;34m,\u001b[0m \u001b[0;34m's1'\u001b[0m\u001b[0;34m,\u001b[0m \u001b[0;34m's2'\u001b[0m\u001b[0;34m]\u001b[0m\u001b[0;34m)\u001b[0m\u001b[0;34m.\u001b[0m\u001b[0mset_index\u001b[0m\u001b[0;34m(\u001b[0m\u001b[0;34m'sequence'\u001b[0m\u001b[0;34m)\u001b[0m\u001b[0;34m\u001b[0m\u001b[0;34m\u001b[0m\u001b[0m\n\u001b[0m\u001b[1;32m      2\u001b[0m \u001b[0mfilename\u001b[0m \u001b[0;34m=\u001b[0m \u001b[0;34mf'./dataset_100.csv'\u001b[0m\u001b[0;34m\u001b[0m\u001b[0;34m\u001b[0m\u001b[0m\n\u001b[1;32m      3\u001b[0m \u001b[0mdf\u001b[0m\u001b[0;34m.\u001b[0m\u001b[0mto_csv\u001b[0m\u001b[0;34m(\u001b[0m\u001b[0mfilename\u001b[0m\u001b[0;34m)\u001b[0m\u001b[0;34m\u001b[0m\u001b[0;34m\u001b[0m\u001b[0m\n",
      "\u001b[0;31mNameError\u001b[0m: name 's_list' is not defined"
     ]
    }
   ],
   "source": [
    "# df = pd.DataFrame(s_list, columns=['sequence', 's1', 's2']).set_index('sequence')\n",
    "# filename = f'./dataset_100.csv'\n",
    "# df.to_csv(filename)"
   ]
  },
  {
   "cell_type": "code",
   "execution_count": 3,
   "metadata": {},
   "outputs": [
    {
     "data": {
      "text/html": [
       "<div>\n",
       "<style scoped>\n",
       "    .dataframe tbody tr th:only-of-type {\n",
       "        vertical-align: middle;\n",
       "    }\n",
       "\n",
       "    .dataframe tbody tr th {\n",
       "        vertical-align: top;\n",
       "    }\n",
       "\n",
       "    .dataframe thead th {\n",
       "        text-align: right;\n",
       "    }\n",
       "</style>\n",
       "<table border=\"1\" class=\"dataframe\">\n",
       "  <thead>\n",
       "    <tr style=\"text-align: right;\">\n",
       "      <th></th>\n",
       "      <th>sequence</th>\n",
       "      <th>s1</th>\n",
       "      <th>s2</th>\n",
       "    </tr>\n",
       "  </thead>\n",
       "  <tbody>\n",
       "    <tr>\n",
       "      <th>0</th>\n",
       "      <td>UUCCACUAGCUUAACUCGAUCCAAUACUCACUUGGGCUCACUGAUA...</td>\n",
       "      <td>.(((.((.((((..((((((((((.......))))).))..........</td>\n",
       "      <td>..........................(((.(((.(.(((.(((......</td>\n",
       "    </tr>\n",
       "    <tr>\n",
       "      <th>1</th>\n",
       "      <td>UCAGUGGGAUAGUUAUACAUCCACACGUGGCACCUAUACCUAUCAU...</td>\n",
       "      <td>...(((((((........)))).)))(.(((.(((((.((.........</td>\n",
       "      <td>...(((.(((((.((((...(((....)))....)))).))))).)...</td>\n",
       "    </tr>\n",
       "    <tr>\n",
       "      <th>2</th>\n",
       "      <td>GAUAUUAUGGUACCAUACUUUUGGGGUCUGCGAGUACCCGCCUUAG...</td>\n",
       "      <td>(((((((.((((...))))...(((((((.(((.....(((((.((...</td>\n",
       "      <td>........((((..........(((((((.(((...((((.....(...</td>\n",
       "    </tr>\n",
       "    <tr>\n",
       "      <th>3</th>\n",
       "      <td>UUUUAGUUAGCCACGUCGCCGGUCGCGUAUAAGCCGGGUACCCGAG...</td>\n",
       "      <td>..........((.((..((((((.((......))..(((((....)...</td>\n",
       "      <td>((.((((.......((..(((((.........)))))..))........</td>\n",
       "    </tr>\n",
       "    <tr>\n",
       "      <th>4</th>\n",
       "      <td>GCUCACUUUUAUUUAGUUACUCGGGUCCGGUCUGGUCCGUUGGCGG...</td>\n",
       "      <td>(((.(((((((..........((((.((.....))))))...((((...</td>\n",
       "      <td>.............(((..((((.(((..(((....((((..(((((...</td>\n",
       "    </tr>\n",
       "  </tbody>\n",
       "</table>\n",
       "</div>"
      ],
      "text/plain": [
       "                                            sequence  \\\n",
       "0  UUCCACUAGCUUAACUCGAUCCAAUACUCACUUGGGCUCACUGAUA...   \n",
       "1  UCAGUGGGAUAGUUAUACAUCCACACGUGGCACCUAUACCUAUCAU...   \n",
       "2  GAUAUUAUGGUACCAUACUUUUGGGGUCUGCGAGUACCCGCCUUAG...   \n",
       "3  UUUUAGUUAGCCACGUCGCCGGUCGCGUAUAAGCCGGGUACCCGAG...   \n",
       "4  GCUCACUUUUAUUUAGUUACUCGGGUCCGGUCUGGUCCGUUGGCGG...   \n",
       "\n",
       "                                                  s1  \\\n",
       "0  .(((.((.((((..((((((((((.......))))).))..........   \n",
       "1  ...(((((((........)))).)))(.(((.(((((.((.........   \n",
       "2  (((((((.((((...))))...(((((((.(((.....(((((.((...   \n",
       "3  ..........((.((..((((((.((......))..(((((....)...   \n",
       "4  (((.(((((((..........((((.((.....))))))...((((...   \n",
       "\n",
       "                                                  s2  \n",
       "0  ..........................(((.(((.(.(((.(((......  \n",
       "1  ...(((.(((((.((((...(((....)))....)))).))))).)...  \n",
       "2  ........((((..........(((((((.(((...((((.....(...  \n",
       "3  ((.((((.......((..(((((.........)))))..))........  \n",
       "4  .............(((..((((.(((..(((....((((..(((((...  "
      ]
     },
     "execution_count": 3,
     "metadata": {},
     "output_type": "execute_result"
    }
   ],
   "source": [
    "# read in sequence, structure pairs\n",
    "\n",
    "filename = f'./dataset_100.csv'\n",
    "input_df = pd.read_csv(filename)\n",
    "input_df.head()"
   ]
  },
  {
   "cell_type": "markdown",
   "metadata": {},
   "source": [
    "# feature engineering"
   ]
  },
  {
   "cell_type": "code",
   "execution_count": 4,
   "metadata": {},
   "outputs": [],
   "source": [
    "%load_ext autoreload\n",
    "%autoreload 2\n",
    "np.set_printoptions(precision=3)\n",
    "np.set_printoptions(suppress=True) # no scientific notation"
   ]
  },
  {
   "cell_type": "code",
   "execution_count": 25,
   "metadata": {},
   "outputs": [],
   "source": [
    "# import feature_generation\n",
    "\n",
    "from features import ij_distance, new_move_dist, plt_moves, config_distance, balance_in_all_things, return_shift_moves\n",
    "\n",
    "\n"
   ]
  },
  {
   "cell_type": "code",
   "execution_count": 6,
   "metadata": {},
   "outputs": [
    {
     "data": {
      "image/png": "[encoded data removed]",
      "text/plain": [
       "<Figure size 432x432 with 1 Axes>"
      ]
     },
     "metadata": {},
     "output_type": "display_data"
    },
    {
     "data": {
      "image/png": "[encoded data removed]",
      "text/plain": [
       "<Figure size 432x432 with 1 Axes>"
      ]
     },
     "metadata": {},
     "output_type": "display_data"
    },
    {
     "data": {
      "image/png": "[encoded data removed]",
      "text/plain": [
       "<Figure size 432x432 with 1 Axes>"
      ]
     },
     "metadata": {},
     "output_type": "display_data"
    }
   ],
   "source": [
    "# probability distribution functions\n",
    "# this is limited to 100 nt seqs atm\n",
    "\n",
    "\n",
    "\n",
    "\n",
    "ij_moves = [(0,0), (3, 62), (4, 61), (6, 60), (7, 59), (9, 57), (10, 56), (11, 55), (12, 54), (15, 52), (16, 51), (17, 50), (18, 39), (19, 38), (20, 36), (21, 35), (22, 34), (23, 33), (24, 32), (42, 49), (43, 48), (64, 99)]\n",
    "\n",
    "move_dist = np.zeros((20))\n",
    "\n",
    "for e, (i, j) in enumerate(ij_moves):\n",
    "    move_dist = new_move_dist(i, j, move_dist)    \n",
    "    plt_moves(move_dist)\n",
    "\n",
    "    if e > 1:\n",
    "        break\n",
    "    \n",
    "\n"
   ]
  },
  {
   "cell_type": "code",
   "execution_count": 7,
   "metadata": {},
   "outputs": [
    {
     "data": {
      "text/plain": [
       "2"
      ]
     },
     "execution_count": 7,
     "metadata": {},
     "output_type": "execute_result"
    }
   ],
   "source": [
    "\n",
    "s1 = '..((((((....((((((....((.......(((....((.((((.(..((...))..))))).))...))).....))..))))))..)))).))....'\n",
    "s  = '.((.((((....((((((....((...(((((..........(((.(..((...))..)))).))))).........))..))))))..)))))).....' # some random intermediate\n",
    "s2 = '.((.((((....((((((....((...(((((((.((((.((((.....))))..))))..))))))).........))..))))))..)))))).....'\n",
    "balance_in_all_things(s1, s2, s)\n",
    "\n",
    "# print (len(s1))\n",
    "\n",
    "# len([len(i) for i in s1 if i=='.'])"
   ]
  },
  {
   "cell_type": "code",
   "execution_count": 10,
   "metadata": {},
   "outputs": [
    {
     "name": "stdout",
     "output_type": "stream",
     "text": [
      "(0.13636363636363635, 0.2857142857142857, 0.14285714285714285)\n",
      "1\n"
     ]
    },
    {
     "data": {
      "text/plain": [
       "([], [])"
      ]
     },
     "execution_count": 10,
     "metadata": {},
     "output_type": "execute_result"
    }
   ],
   "source": [
    "\n",
    "\n",
    "\n",
    "# sample call\n",
    "ij_moves = [(3, 62), (4, 61), (6, 60), (7, 59), (9, 57), (10, 56), (11, 55), (12, 54), (15, 52), (16, 51), (17, 50), (18, 39), (19, 38), (20, 36), (21, 35), (22, 34), (23, 33), (24, 32), (42, 49), (43, 48), (64, 99)]\n",
    "last_move = (2, 63)\n",
    "this_move = (6, 60)\n",
    "\n",
    "# how far is the last move away from the current move.\n",
    "# it is likely, that the next move is close to the last one\n",
    "# there are better distance metrices probably...\n",
    "\n",
    "print (ij_distance(last_move, this_move, ij_moves)) # (0.13636363636363635, 0.2857142857142857, 0.14285714285714285)\n",
    "\n",
    "\"\"\"\n",
    "are we extending / removing the outside/inside layer of a loop or adding something in the middle?\n",
    "\"\"\"\n",
    "\n",
    "thiss = \"..((.((.((((..((((((((((.......))))).))..........))).)))).)))).(((.((((((..((((.....))))..))))))))).\"\n",
    "this_move = (6, 60)\n",
    "\n",
    "pt = list(RNA.ptable(thiss))\n",
    "cd = config_distance(pt, this_move)\n",
    "print (cd)\n",
    "\n",
    "\n",
    "sequence = 'UUGUACUAUAAUGGUGAGGGUUCGGCACUAUGGCGUGUGUUCAGUUAAUAAAGGGUACUGUAAUUCCGCGUGGACGGCGCCUCUCGCAUGCUAUUUAAAG'\n",
    "s1       = '.............((((((....(((.((.(.(((((.(((((((...........)))).)))..))))).)..)).))))))))).............'\n",
    "s2       = '.............(((((((((((...((((.(((.(.(((((((...........)))).))).)))))))).))).))).))))).............'\n",
    "\n",
    "_, path = fp_call(sequence, s1, s2)\n",
    "\n",
    "\n"
   ]
  },
  {
   "cell_type": "code",
   "execution_count": 11,
   "metadata": {},
   "outputs": [
    {
     "data": {
      "text/plain": [
       "0.42374528100878694"
      ]
     },
     "execution_count": 11,
     "metadata": {},
     "output_type": "execute_result"
    }
   ],
   "source": [
    "X_test = np.array([[-3.2, -1.,  4.]])\n",
    "X_test_minmax = min_max_scaler.fit_transform(X_test.T).T[0]\n",
    "X_test_minmax\n",
    "random.random()"
   ]
  },
  {
   "cell_type": "code",
   "execution_count": 32,
   "metadata": {},
   "outputs": [
    {
     "name": "stdout",
     "output_type": "stream",
     "text": [
      "The autoreload extension is already loaded. To reload it, use:\n",
      "  %reload_ext autoreload\n"
     ]
    }
   ],
   "source": [
    "%load_ext autoreload\n",
    "%autoreload 2\n",
    "np.set_printoptions(precision=3)\n",
    "np.set_printoptions(suppress=True) # no scientific notation\n",
    "\n",
    "from process_features import fp_call, find_moves, process\n"
   ]
  },
  {
   "cell_type": "code",
   "execution_count": 36,
   "metadata": {},
   "outputs": [],
   "source": [
    "# test run, verbose\n",
    "search_width_multiplier = 2\n",
    "results = []\n",
    "\n",
    "for index, row in input_df.iterrows():\n",
    "    if index!=21:\n",
    "       continue\n",
    "    sequence = row.sequence\n",
    "    s1 = row.s1\n",
    "    s2 = row.s2\n",
    "    process(sequence, s1, s2, search_width_multiplier)\n",
    "\n",
    "   #  _, p = fp_call(sequence, s1, s2)\n",
    "   #  print_moves(sequence, s1, s2, p)\n",
    "    # break\n"
   ]
  },
  {
   "cell_type": "code",
   "execution_count": 15,
   "metadata": {},
   "outputs": [
    {
     "name": "stdout",
     "output_type": "stream",
     "text": [
      "Computing |____________________| 0.0% complete 0 \n",
      "Computing |____________________| 1.0% complete 1 \n",
      "Computing |____________________| 2.0% complete 2 \n",
      "Computing |____________________| 3.0% complete 3 \n",
      "Computing |____________________| 4.0% complete 4 \n",
      "Computing |█___________________| 5.0% complete 5 \n",
      "Computing |█___________________| 6.0% complete 6 \n",
      "Computing |█___________________| 7.0% complete 7 \n",
      "Computing |█___________________| 8.0% complete 8 \n",
      "Computing |█___________________| 9.0% complete 9 \n",
      "Computing |██__________________| 10.0% complete 10 \n"
     ]
    }
   ],
   "source": [
    "search_width_multiplier = 10\n",
    "\n",
    "results = []\n",
    "vec_results = []\n",
    "\n",
    "for index, row in input_df.iterrows():\n",
    "    \n",
    "    # if index!=1:\n",
    "    #     continue\n",
    "\n",
    "    # if index<90:\n",
    "    #     continue\n",
    "    if index>10:\n",
    "        break\n",
    "    \n",
    "    percent_complete = 100-(len(input_df)-index)/len(input_df)*100\n",
    "    bar_length = 20\n",
    "    filled_length = int(percent_complete/100*bar_length)\n",
    "    rest = bar_length - filled_length\n",
    "    bar = \"█\" * filled_length + '_' * rest\n",
    "    print(\n",
    "        f'\\rComputing |{bar}| {percent_complete:.1f}% complete {index} ')\n",
    "\n",
    "    sequence = row.sequence\n",
    "    s1 = row.s1\n",
    "    s2 = row.s2\n",
    "\n",
    "\n",
    "    a, b = process(sequence, s1, s2)\n",
    "    results += a\n",
    "    vec_results += b\n",
    "\n",
    "    # break\n",
    "\n",
    "# print (results)\n"
   ]
  },
  {
   "cell_type": "code",
   "execution_count": 16,
   "metadata": {},
   "outputs": [
    {
     "name": "stdout",
     "output_type": "stream",
     "text": [
      "                                                      s   i    j  target  \\\n",
      "0     ..((.((.(((...((((((((((.......))))).)).......... -12  -54       1   \n",
      "1     ..((.(..((((..((((((((((.......))))).))..........  -7  -59       1   \n",
      "2     ..((.((.((((..(((((((((.........)))).)).......... -24  -32       0   \n",
      "3     ..((.((.((((..((((((((((.......))))).)).......... -64  -99       0   \n",
      "4     ..((.((.((((..(((((.((((.......))))..)).......... -20  -36       1   \n",
      "...                                                 ...  ..  ...     ...   \n",
      "4926  .((......))(....((((((.(((((((((..((((..(((......  12  100       1   \n",
      "4927  .((......))...((((((((.(((((((((..((((..(((......  16   96       1   \n",
      "4928  .((......))..((.((((((.(((((((((..((((..(((......  14   98       1   \n",
      "4929  .((......)).(.(.((((((.(((((((((..((((..(((......  13   99       1   \n",
      "4930  .((......))(..(.((((((.(((((((((..((((..(((......  12  100       1   \n",
      "\n",
      "           ijd  thisclose  lastclose  cd    en_pos  i_shift  j_shift  \\\n",
      "0     0.363636   0.285714   0.142857   1  0.000000        0        0   \n",
      "1     0.181818   0.333333   0.142857   1  0.034483        0        1   \n",
      "2     0.818182   0.238095   0.142857   1  0.034483        0        0   \n",
      "3     0.954545   0.047619   0.142857   1  0.103448        0        0   \n",
      "4     0.636364   0.333333   0.142857   1  0.206897        0        0   \n",
      "...        ...        ...        ...  ..       ...      ...      ...   \n",
      "4926  0.166667   1.000000   0.000000   0  1.000000        1        0   \n",
      "4927  0.200000   1.000000   1.000000   0  0.000000        0        0   \n",
      "4928  0.200000   1.000000   1.000000   1  0.663043        0        1   \n",
      "4929  0.400000   1.000000   1.000000   0  0.717391        0        1   \n",
      "4930  0.600000   1.000000   1.000000   0  1.000000        1        0   \n",
      "\n",
      "      insert_or_delete   balance  \n",
      "0                    0  0.117647  \n",
      "1                    0  0.117647  \n",
      "2                    0  0.117647  \n",
      "3                    0  0.117647  \n",
      "4                    0  0.117647  \n",
      "...                ...       ...  \n",
      "4926                 1  0.035714  \n",
      "4927                 1  0.000000  \n",
      "4928                 1  0.000000  \n",
      "4929                 1  0.000000  \n",
      "4930                 1  0.000000  \n",
      "\n",
      "[4931 rows x 13 columns]\n"
     ]
    }
   ],
   "source": [
    "output_df = pd.DataFrame(results)\n",
    "\n",
    "# snew, i, j, pos_result, ijd, thisclose, lastclose, cd, en_list_scaled[pos], found\n",
    "output_df.columns = ['s', 'i', 'j', 'target', 'ijd', 'thisclose', 'lastclose', 'cd', 'en_pos',\\\n",
    "                     'i_shift', 'j_shift', 'insert_or_delete', 'balance']\n",
    "\n",
    "print (output_df)\n",
    "\n",
    "output_df.to_csv(\"dataset_105_train.csv\")\n",
    "# output_df.to_csv(\"dataset_105_test.csv\")\n",
    "# output_df\n",
    "\n",
    "output_df = pd.DataFrame(vec_results)\n",
    "output_df.to_csv(\"dataset_105_vec_train.csv\")\n",
    "# output_df.to_csv(\"dataset_105_vec_test.csv\")\n",
    "# output_df\n"
   ]
  },
  {
   "cell_type": "code",
   "execution_count": 5,
   "metadata": {},
   "outputs": [],
   "source": [
    "search_width_multiplier = 4\n",
    "\n",
    "# call with search width multiplier:\n",
    "fp = findpath.findpath_single(sequence, s1, s2, search_width_multiplier=search_width_multiplier, mp=True)\n",
    "\n",
    "# call with fixed search width integer:\n",
    "# fp = findpath.findpath_single(sequence, s1, s2, search_width=50, mp=mp)\n",
    "\n",
    "# call with added model detail dictionary:\n",
    "# fp = findpath.findpath_single(sequence, s1, s2, search_width_multiplier=search_width_multiplier, \n",
    "#     mp=mp, model_details={\"temperature\": -14.5,})\n",
    "\n",
    "result = fp.get_en()/100.0\n",
    "path = fp.get_path()\n",
    "\n"
   ]
  },
  {
   "cell_type": "code",
   "execution_count": 6,
   "metadata": {},
   "outputs": [
    {
     "name": "stdout",
     "output_type": "stream",
     "text": [
      "UUGUACUAUAAUGGUGAGGGUUCGGCACUAUGGCGUGUGUUCAGUUAAUAAAGGGUACUGUAAUUCCGCGUGGACGGCGCCUCUCGCAUGCUAUUUAAAG\n",
      ".............((((((....(((.((.(.(((((.(((((((...........)))).)))..))))).)..)).)))))))))............. \u001b[93m[   0,    0 ]\u001b[0m -21.60\n",
      ".............((((((....(((.(\u001b[93m\u001b[1m.\u001b[0m.(.(((((.(((((((...........)))).)))..))))).)..\u001b[93m\u001b[1m.\u001b[0m).)))))))))............. \u001b[93m[ -29,  -76 ]\u001b[0m -19.90\n",
      ".............((((((....(((.\u001b[93m\u001b[1m.\u001b[0m..(.(((((.(((((((...........)))).)))..))))).)...\u001b[93m\u001b[1m.\u001b[0m.)))))))))............. \u001b[93m[ -28,  -77 ]\u001b[0m -19.10\n",
      ".............((((((....((\u001b[93m\u001b[1m.\u001b[0m....(.(((((.(((((((...........)))).)))..))))).).....\u001b[93m\u001b[1m.\u001b[0m))))))))............. \u001b[93m[ -26,  -79 ]\u001b[0m -15.50\n",
      ".............((((((....(\u001b[93m\u001b[1m.\u001b[0m.....(.(((((.(((((((...........)))).)))..))))).)......\u001b[93m\u001b[1m.\u001b[0m)))))))............. \u001b[93m[ -25,  -80 ]\u001b[0m \u001b[91m\u001b[1m-12.00\u001b[0m\n",
      ".............((((((....\u001b[93m\u001b[1m.\u001b[0m......(.(((((.(((((((...........)))).)))..))))).).......\u001b[93m\u001b[1m.\u001b[0m))))))............. \u001b[93m[ -24,  -81 ]\u001b[0m -13.80\n",
      ".............(((((\u001b[93m\u001b[1m.\u001b[0m...........(.(((((.(((((((...........)))).)))..))))).)........\u001b[93m\u001b[1m.\u001b[0m)))))............. \u001b[93m[ -19,  -82 ]\u001b[0m -12.90\n",
      ".............(((((\u001b[93m\u001b[1m(\u001b[0m...........(.(((((.(((((((...........)))).)))..))))).).......\u001b[93m\u001b[1m)\u001b[0m.)))))............. \u001b[93m[  19,   81 ]\u001b[0m \u001b[91m\u001b[1m-12.00\u001b[0m\n",
      ".............((((((\u001b[93m\u001b[1m(\u001b[0m..........(.(((((.(((((((...........)))).)))..))))).)......\u001b[93m\u001b[1m)\u001b[0m).)))))............. \u001b[93m[  20,   80 ]\u001b[0m -15.40\n",
      ".............(((((((..........\u001b[93m\u001b[1m.\u001b[0m.(((((.(((((((...........)))).)))..))))).\u001b[93m\u001b[1m.\u001b[0m......)).)))))............. \u001b[93m[ -31,  -73 ]\u001b[0m -15.40\n",
      ".............(((((((.......\u001b[93m\u001b[1m(\u001b[0m....(((((.(((((((...........)))).)))..))))).\u001b[93m\u001b[1m)\u001b[0m......)).)))))............. \u001b[93m[  28,   73 ]\u001b[0m -12.90\n",
      ".............(((((((.......(\u001b[93m\u001b[1m(\u001b[0m...(((((.(((((((...........)))).)))..)))))\u001b[93m\u001b[1m)\u001b[0m)......)).)))))............. \u001b[93m[  29,   72 ]\u001b[0m -15.30\n",
      ".............(((((((.......((...\u001b[93m\u001b[1m.\u001b[0m((((.(((((((...........)))).)))..))))\u001b[93m\u001b[1m.\u001b[0m))......)).)))))............. \u001b[93m[ -33,  -71 ]\u001b[0m -12.50\n",
      ".............(((((((.......((\u001b[93m\u001b[1m(\u001b[0m...((((.(((((((...........)))).)))..))))\u001b[93m\u001b[1m)\u001b[0m))......)).)))))............. \u001b[93m[  30,   71 ]\u001b[0m -14.30\n",
      ".............(((((((...\u001b[93m\u001b[1m(\u001b[0m...(((...((((.(((((((...........)))).)))..))))))).\u001b[93m\u001b[1m)\u001b[0m....)).)))))............. \u001b[93m[  24,   75 ]\u001b[0m -12.70\n",
      ".............(((((((..\u001b[93m\u001b[1m(\u001b[0m(...(((...((((.(((((((...........)))).)))..))))))).)\u001b[93m\u001b[1m)\u001b[0m...)).)))))............. \u001b[93m[  23,   76 ]\u001b[0m -15.20\n",
      ".............(((((((..((...(((...\u001b[93m\u001b[1m.\u001b[0m(((.(((((((...........)))).)))..)))\u001b[93m\u001b[1m.\u001b[0m))).))...)).)))))............. \u001b[93m[ -34,  -70 ]\u001b[0m \u001b[91m\u001b[1m-12.00\u001b[0m\n",
      ".............(((((((..((...(((\u001b[93m\u001b[1m(\u001b[0m...(((.(((((((...........)))).)))..)))\u001b[93m\u001b[1m)\u001b[0m))).))...)).)))))............. \u001b[93m[  31,   70 ]\u001b[0m -14.20\n",
      ".............(((((((\u001b[93m\u001b[1m(\u001b[0m.((...((((...(((.(((((((...........)))).)))..))))))).))..\u001b[93m\u001b[1m)\u001b[0m)).)))))............. \u001b[93m[  21,   79 ]\u001b[0m -16.30\n",
      ".............((((((((\u001b[93m\u001b[1m(\u001b[0m((...((((...(((.(((((((...........)))).)))..))))))).))\u001b[93m\u001b[1m)\u001b[0m.))).)))))............. \u001b[93m[  22,   77 ]\u001b[0m -17.50\n",
      ".............(((((((((((...((((...\u001b[93m\u001b[1m.\u001b[0m((.(((((((...........)))).)))..))\u001b[93m\u001b[1m.\u001b[0m)))).))).))).)))))............. \u001b[93m[ -35,  -69 ]\u001b[0m -13.50\n",
      ".............(((((((((((...((((.\u001b[93m\u001b[1m(\u001b[0m..((.(((((((...........)))).)))..))\u001b[93m\u001b[1m)\u001b[0m)))).))).))).)))))............. \u001b[93m[  33,   69 ]\u001b[0m -13.00\n",
      ".............(((((((((((...((((.(..\u001b[93m\u001b[1m.\u001b[0m(.(((((((...........)))).)))..)\u001b[93m\u001b[1m.\u001b[0m))))).))).))).)))))............. \u001b[93m[ -36,  -68 ]\u001b[0m -12.60\n",
      ".............(((((((((((...((((.(...\u001b[93m\u001b[1m.\u001b[0m.(((((((...........)))).)))..\u001b[93m\u001b[1m.\u001b[0m.))))).))).))).)))))............. \u001b[93m[ -37,  -67 ]\u001b[0m -14.00\n",
      ".............(((((((((((...((((.(\u001b[93m\u001b[1m(\u001b[0m....(((((((...........)))).)))...\u001b[93m\u001b[1m)\u001b[0m))))).))).))).)))))............. \u001b[93m[  34,   68 ]\u001b[0m -17.70\n",
      ".............(((((((((((...((((.((\u001b[93m\u001b[1m(\u001b[0m...(((((((...........)))).)))..\u001b[93m\u001b[1m)\u001b[0m)))))).))).))).)))))............. \u001b[93m[  35,   67 ]\u001b[0m -19.90\n",
      ".............(((((((((((...((((.(((.\u001b[93m\u001b[1m(\u001b[0m.(((((((...........)))).))).\u001b[93m\u001b[1m)\u001b[0m))))))).))).))).)))))............. \u001b[93m[  37,   66 ]\u001b[0m -21.70\n",
      "S: -12.00 kcal/mol | B:   9.60 kcal/mol | E[start]:-21.60 E[end]:-21.70\n"
     ]
    },
    {
     "data": {
      "text/plain": [
       "-12.0"
      ]
     },
     "execution_count": 6,
     "metadata": {},
     "output_type": "execute_result"
    }
   ],
   "source": [
    "print_moves(sequence, s1, s2, path, convert_to_float=True)\n",
    "# print (path, result)"
   ]
  },
  {
   "cell_type": "code",
   "execution_count": 7,
   "metadata": {},
   "outputs": [
    {
     "name": "stdout",
     "output_type": "stream",
     "text": [
      "1 -29 -76 found at pos: 1 of 12 : 0.9166666666666666\n",
      "2 -28 -77 found at pos: 1 of 11 : 0.9090909090909091\n",
      "3 -26 -79 found at pos: 3 of 10 : 0.7\n",
      "4 -25 -80 found at pos: 3 of 9 : 0.6666666666666667\n",
      "5 -24 -81 found at pos: 0 of 8 : 1.0\n",
      "6 -19 -82 found at pos: 1 of 12 : 0.9166666666666666\n",
      "7 19 81 found at pos: 1 of 12 : 0.9166666666666666\n",
      "8 20 80 found at pos: 0 of 11 : 1.0\n",
      "9 -31 -73 found at pos: 1 of 10 : 0.9\n",
      "10 28 73 found at pos: 2 of 11 : 0.8181818181818181\n",
      "11 29 72 found at pos: 0 of 10 : 1.0\n",
      "12 -33 -71 found at pos: 3 of 9 : 0.6666666666666667\n",
      "13 30 71 found at pos: 1 of 9 : 0.8888888888888888\n",
      "14 24 75 found at pos: 1 of 8 : 0.875\n",
      "15 23 76 found at pos: 0 of 7 : 1.0\n",
      "16 -34 -70 found at pos: 3 of 6 : 0.5\n",
      "17 31 70 found at pos: 0 of 6 : 1.0\n",
      "18 21 79 found at pos: 0 of 5 : 1.0\n",
      "19 22 77 found at pos: 0 of 4 : 1.0\n",
      "20 -35 -69 found at pos: 1 of 3 : 0.6666666666666667\n",
      "21 33 69 found at pos: 0 of 3 : 1.0\n",
      "22 -36 -68 found at pos: 0 of 2 : 1.0\n",
      "23 -37 -67 found at pos: 1 of 2 : 0.5\n",
      "24 34 68 found at pos: 0 of 3 : 1.0\n",
      "25 35 67 found at pos: 0 of 2 : 1.0\n",
      "26 37 66 found at pos: 0 of 1 : 1.0\n"
     ]
    }
   ],
   "source": [
    "def find_moves(s_ptable, t_ptable):\n",
    "    \"\"\"\n",
    "    generator function, yields possible structures 1 move away\n",
    "    from the original structure by finding fitting i and j with\n",
    "    RNA pair and loop tables\n",
    "    s_ptable: current ptable\n",
    "    t_ptable: s2 end ptable\n",
    "    \"\"\"\n",
    "    # loop table\n",
    "    ls = RNA.loopidx_from_ptable(s_ptable)\n",
    "    for i in range(len(s_ptable)):\n",
    "        if i == 0:\n",
    "            continue\n",
    "        if s_ptable[i] == 0 and t_ptable[i] > i:\n",
    "            j = t_ptable[i]\n",
    "            # found j has to be empty and currently on the same loop as i\n",
    "            if s_ptable[j] == 0 and ls[i] == ls[j]:\n",
    "                yield i, j\n",
    "        # test for bp removal: i has to be paired with a different j in s2\n",
    "        j = s_ptable[i]\n",
    "        # dont remove things which are present in s2\n",
    "        if s_ptable[i] > i and s_ptable[i] != s_ptable[j] and\\\n",
    "                s_ptable[i] != t_ptable[i] and s_ptable[j] != t_ptable[j]:\n",
    "            yield -i, -j\n",
    "\n",
    "\n",
    "\n",
    "s = s1\n",
    "pt2 = list(RNA.ptable(s2))\n",
    "fc = RNA.fold_compound(sequence)\n",
    "\n",
    "for e, (a,b, en) in enumerate(path):\n",
    "    \n",
    "\n",
    "    if (a,b) == (0,0):\n",
    "        continue\n",
    "\n",
    "    \n",
    "\n",
    "\n",
    "    # check where we can go, compare with our best move. \n",
    "    pt = list(RNA.ptable(s))\n",
    "\n",
    "\n",
    "    # check available moves, save them, sort them\n",
    "    \n",
    "    avail_moves = []\n",
    "\n",
    "    found_pos = None\n",
    "\n",
    "    for pos, (i,j) in enumerate(find_moves(pt, pt2)):    \n",
    "        next_en = fc.eval_move_pt(pt, i, j)\n",
    "        # mark where we found our move\n",
    "        found = (i,j) == (a,b)\n",
    "        avail_moves.append((i, j, next_en, found))\n",
    "\n",
    "\n",
    "    avail_moves.sort(key=lambda x: x[2])\n",
    "    found_list = [x[3] for x in avail_moves]\n",
    "\n",
    "    # find where our move is after sorting\n",
    "    found_pos = found_list.index(True)\n",
    "    rel_pos = found_pos * 1.0 / len(found_list)\n",
    "\n",
    "    print (e, a,b, 'found at pos:', found_pos, 'of', len(avail_moves), ':',  1-rel_pos)\n",
    "    # print (avail_moves, a, b)\n",
    "\n",
    "    \n",
    "    # if e==63:\n",
    "    #     print (avail_moves)\n",
    "\n",
    "    # update s for the next iteration\n",
    "    \n",
    "    if a > 0:\n",
    "        s = s[:a-1] + \"(\" + s[a:b-1] + \")\" + s[b:]\n",
    "    if a < 0:\n",
    "        s = s[:-a-1] + \".\" + s[-a:-b-1] + \".\" + s[-b:]\n",
    "    # if not en:\n",
    "    #     en = round(fc.eval_structure(s), 2)\n",
    "\n",
    "\n",
    "\n",
    "    # print (s)\n",
    "\n",
    "    # if e>1:\n",
    "    #     break\n",
    "\n",
    "    # break\n",
    "\n",
    "\n",
    "\n"
   ]
  },
  {
   "cell_type": "code",
   "execution_count": 8,
   "metadata": {},
   "outputs": [
    {
     "data": {
      "image/png": "[encoded data removed]",
      "text/plain": [
       "<Figure size 720x504 with 1 Axes>"
      ]
     },
     "metadata": {
      "needs_background": "light"
     },
     "output_type": "display_data"
    }
   ],
   "source": [
    "# %matplotlib widget\n",
    "%matplotlib inline\n",
    "\n",
    "\n",
    "\"\"\"\n",
    "move visualization\n",
    "\"\"\"\n",
    "\n",
    "sequence = 'UUGUACUAUAAUGGUGAGGGUUCGGCACUAUGGCGUGUGUUCAGUUAAUAAAGGGUACUGUAAUUCCGCGUGGACGGCGCCUCUCGCAUGCUAUUUAAAG'\n",
    "s1       = '.............((((((....(((.((.(.(((((.(((((((...........)))).)))..))))).)..)).))))))))).............'\n",
    "s2       = '.............(((((((((((...((((.(((.(.(((((((...........)))).))).)))))))).))).))).))))).............'\n",
    "\n",
    "fc = RNA.fold_compound(sequence)\n",
    "pt1 = RNA.ptable(s1)\n",
    "pt2 = RNA.ptable(s2)\n",
    "\n",
    "move_list = []\n",
    "move_list_vis = []\n",
    "\n",
    "for i in range(1, len(sequence)+1):\n",
    "    if (pt1[i] != pt2[i]):\n",
    "        if (i < pt1[i]):\n",
    "            # /* need to delete this pair */\n",
    "            # // move_list.push_back(0);\n",
    "            move_list.append((-i, -pt1[i]))\n",
    "            move_list_vis.append((i, pt1[i], -1))\n",
    "            bp_dist =+ 1\n",
    "\n",
    "        if (i < pt2[i]):\n",
    "            # /* need to insert this pair */\n",
    "            # // move_list.push_back(0);\n",
    "            move_list.append((i, pt2[i]))\n",
    "            move_list_vis.append((i, pt2[i], 1))\n",
    "            bp_dist =+ 1\n",
    "\n",
    "\n",
    "move_list_vis = np.array(move_list_vis)\n",
    "\n",
    "move_list_vis = move_list_vis.T\n",
    "i0 = np.where(move_list_vis[2] == -1)[0] # Fraction 0: Iris-setosa\n",
    "i1 = np.where(move_list_vis[2] == 1)[0] # Fraction 1: Iris-versicolor\n",
    "move_list_vis = move_list_vis.T\n",
    "\n",
    "fig = plt.figure(figsize = (10,7))\n",
    "ax = fig.add_subplot(111, projection='3d')\n",
    "\n",
    "ax.scatter(move_list_vis[:,0][i0], move_list_vis[:,1][i0], move_list_vis[:,2][i0], color='blue', label='Iris setosa') # scatter plot fraction 0 Iris-setosa\n",
    "ax.scatter(move_list_vis[:,0][i1], move_list_vis[:,1][i1], move_list_vis[:,2][i1], color='red', label='Iris versicolor')  # scatter plot Fraction 1: Iris-versicolor\n",
    "\n",
    "\n",
    "# samples = np.stack([data[0], data[1], data[2], np.ones_like(data[0])], axis=1)\n",
    "# move_list_vis\n",
    "# move_list_vis\n",
    "\n",
    "\n",
    "# connect points as the path tells us\n",
    "for n in range(len(path)-2):\n",
    "\n",
    "    i1, j1, _ = path[n+1]\n",
    "    i2, j2, _ = path[n+2]\n",
    "\n",
    "    if i1 < 0: # delete move 1\n",
    "        k1 = -1\n",
    "        i1, j1 = -i1, -j1\n",
    "    else:\n",
    "        k1 = 1\n",
    "\n",
    "    if i2 < 0: # delete move 2\n",
    "        k2 = -1\n",
    "        i2, j2 = -i2, -j2\n",
    "    else:\n",
    "        k2 = 1\n",
    "\n",
    "    # xvalues, yvalues, zvalues\n",
    "    ax.plot((i1, i2), (j1, j2), (k1, k2))\n",
    "\n",
    "    # print (i1, j1, k1, i2, j2, k2)\n",
    "    # break\n",
    "\n",
    "\n",
    "# ax.arrow(0, 0, 0.6, 0.7, head_width = 0.05, \n",
    "#          head_length = 0.1)"
   ]
  }
 ],
 "metadata": {
  "interpreter": {
   "hash": "767d51c1340bd893661ea55ea3124f6de3c7a262a8b4abca0554b478b1e2ff90"
  },
  "kernelspec": {
   "display_name": "Python 3.9.7 64-bit",
   "name": "python3"
  },
  "language_info": {
   "codemirror_mode": {
    "name": "ipython",
    "version": 3
   },
   "file_extension": ".py",
   "mimetype": "text/x-python",
   "name": "python",
   "nbconvert_exporter": "python",
   "pygments_lexer": "ipython3",
   "version": "3.8.10"
  },
  "orig_nbformat": 4
 },
 "nbformat": 4,
 "nbformat_minor": 2
}
