{
 "cells": [
  {
   "cell_type": "code",
   "execution_count": 1,
   "metadata": {},
   "outputs": [],
   "source": [
    "import seaborn as sns\n",
    "import matplotlib.pyplot as plt\n",
    "import pandas as pd\n",
    "import numpy as np\n",
    "import RNA\n",
    "\n",
    "sns.set(style=\"darkgrid\")\n"
   ]
  },
  {
   "cell_type": "code",
   "execution_count": 2,
   "metadata": {},
   "outputs": [
    {
     "name": "stdout",
     "output_type": "stream",
     "text": [
      "100 0.20208268821765338\n",
      "200 0.256947242479769\n",
      "300 0.30132815274302455\n"
     ]
    },
    {
     "data": {
      "text/plain": [
       "<AxesSubplot:ylabel='Count'>"
      ]
     },
     "execution_count": 2,
     "metadata": {},
     "output_type": "execute_result"
    },
    {
     "data": {
      "image/png": "[encoded data removed]",
      "text/plain": [
       "<Figure size 432x288 with 1 Axes>"
      ]
     },
     "metadata": {},
     "output_type": "display_data"
    }
   ],
   "source": [
    "x = [100, 200, 300]\n",
    "\n",
    "df = pd.DataFrame()\n",
    "\n",
    "for i in x:\n",
    "    df2 = pd.read_csv(f\"label_benchmark_{i}.csv\")\n",
    "    df[i] = df2[\"label\"]\n",
    "\n",
    "    print (i, np.mean(df[i]))\n",
    "\n",
    "sns.histplot(data=df)\n"
   ]
  },
  {
   "cell_type": "code",
   "execution_count": 53,
   "metadata": {},
   "outputs": [
    {
     "data": {
      "text/html": [
       "<div>\n",
       "<style scoped>\n",
       "    .dataframe tbody tr th:only-of-type {\n",
       "        vertical-align: middle;\n",
       "    }\n",
       "\n",
       "    .dataframe tbody tr th {\n",
       "        vertical-align: top;\n",
       "    }\n",
       "\n",
       "    .dataframe thead th {\n",
       "        text-align: right;\n",
       "    }\n",
       "</style>\n",
       "<table border=\"1\" class=\"dataframe\">\n",
       "  <thead>\n",
       "    <tr style=\"text-align: right;\">\n",
       "      <th></th>\n",
       "      <th>Unnamed: 0</th>\n",
       "      <th>0</th>\n",
       "      <th>1</th>\n",
       "      <th>2</th>\n",
       "      <th>3</th>\n",
       "      <th>4</th>\n",
       "      <th>5</th>\n",
       "      <th>6</th>\n",
       "      <th>7</th>\n",
       "      <th>8</th>\n",
       "    </tr>\n",
       "  </thead>\n",
       "  <tbody>\n",
       "    <tr>\n",
       "      <th>0</th>\n",
       "      <td>0</td>\n",
       "      <td>-35.6</td>\n",
       "      <td>402616</td>\n",
       "      <td>19.332920</td>\n",
       "      <td>-35.6</td>\n",
       "      <td>205678</td>\n",
       "      <td>12.205480</td>\n",
       "      <td>-35.6</td>\n",
       "      <td>185876</td>\n",
       "      <td>11.159830</td>\n",
       "    </tr>\n",
       "    <tr>\n",
       "      <th>1</th>\n",
       "      <td>1</td>\n",
       "      <td>-40.0</td>\n",
       "      <td>110327</td>\n",
       "      <td>8.547177</td>\n",
       "      <td>-40.0</td>\n",
       "      <td>50948</td>\n",
       "      <td>5.253032</td>\n",
       "      <td>-40.0</td>\n",
       "      <td>39657</td>\n",
       "      <td>4.700786</td>\n",
       "    </tr>\n",
       "    <tr>\n",
       "      <th>2</th>\n",
       "      <td>2</td>\n",
       "      <td>-48.8</td>\n",
       "      <td>45396</td>\n",
       "      <td>1.684958</td>\n",
       "      <td>-48.8</td>\n",
       "      <td>24161</td>\n",
       "      <td>1.207064</td>\n",
       "      <td>-48.8</td>\n",
       "      <td>22604</td>\n",
       "      <td>1.131164</td>\n",
       "    </tr>\n",
       "    <tr>\n",
       "      <th>3</th>\n",
       "      <td>3</td>\n",
       "      <td>-33.9</td>\n",
       "      <td>332501</td>\n",
       "      <td>23.454754</td>\n",
       "      <td>-33.9</td>\n",
       "      <td>188482</td>\n",
       "      <td>15.586816</td>\n",
       "      <td>-33.9</td>\n",
       "      <td>169109</td>\n",
       "      <td>14.647457</td>\n",
       "    </tr>\n",
       "    <tr>\n",
       "      <th>4</th>\n",
       "      <td>4</td>\n",
       "      <td>-32.3</td>\n",
       "      <td>400527</td>\n",
       "      <td>17.601413</td>\n",
       "      <td>-32.3</td>\n",
       "      <td>218451</td>\n",
       "      <td>11.917326</td>\n",
       "      <td>-32.8</td>\n",
       "      <td>211885</td>\n",
       "      <td>11.545099</td>\n",
       "    </tr>\n",
       "    <tr>\n",
       "      <th>...</th>\n",
       "      <td>...</td>\n",
       "      <td>...</td>\n",
       "      <td>...</td>\n",
       "      <td>...</td>\n",
       "      <td>...</td>\n",
       "      <td>...</td>\n",
       "      <td>...</td>\n",
       "      <td>...</td>\n",
       "      <td>...</td>\n",
       "      <td>...</td>\n",
       "    </tr>\n",
       "    <tr>\n",
       "      <th>895</th>\n",
       "      <td>895</td>\n",
       "      <td>-36.3</td>\n",
       "      <td>69448</td>\n",
       "      <td>2.771265</td>\n",
       "      <td>-36.3</td>\n",
       "      <td>42503</td>\n",
       "      <td>2.158875</td>\n",
       "      <td>-36.3</td>\n",
       "      <td>35794</td>\n",
       "      <td>1.845743</td>\n",
       "    </tr>\n",
       "    <tr>\n",
       "      <th>896</th>\n",
       "      <td>896</td>\n",
       "      <td>-41.4</td>\n",
       "      <td>11150</td>\n",
       "      <td>0.422389</td>\n",
       "      <td>-41.4</td>\n",
       "      <td>8122</td>\n",
       "      <td>0.419507</td>\n",
       "      <td>-41.4</td>\n",
       "      <td>7288</td>\n",
       "      <td>0.378571</td>\n",
       "    </tr>\n",
       "    <tr>\n",
       "      <th>897</th>\n",
       "      <td>897</td>\n",
       "      <td>-42.3</td>\n",
       "      <td>79515</td>\n",
       "      <td>3.504348</td>\n",
       "      <td>-42.3</td>\n",
       "      <td>50253</td>\n",
       "      <td>2.717348</td>\n",
       "      <td>-42.3</td>\n",
       "      <td>48092</td>\n",
       "      <td>2.607856</td>\n",
       "    </tr>\n",
       "    <tr>\n",
       "      <th>898</th>\n",
       "      <td>898</td>\n",
       "      <td>-40.3</td>\n",
       "      <td>764717</td>\n",
       "      <td>43.409018</td>\n",
       "      <td>-40.3</td>\n",
       "      <td>408454</td>\n",
       "      <td>26.362515</td>\n",
       "      <td>-38.9</td>\n",
       "      <td>376801</td>\n",
       "      <td>25.186562</td>\n",
       "    </tr>\n",
       "    <tr>\n",
       "      <th>899</th>\n",
       "      <td>899</td>\n",
       "      <td>-47.1</td>\n",
       "      <td>294665</td>\n",
       "      <td>12.825848</td>\n",
       "      <td>-47.1</td>\n",
       "      <td>152875</td>\n",
       "      <td>8.893649</td>\n",
       "      <td>-47.1</td>\n",
       "      <td>143136</td>\n",
       "      <td>8.468785</td>\n",
       "    </tr>\n",
       "  </tbody>\n",
       "</table>\n",
       "<p>900 rows × 10 columns</p>\n",
       "</div>"
      ],
      "text/plain": [
       "     Unnamed: 0     0       1          2     3       4          5     6  \\\n",
       "0             0 -35.6  402616  19.332920 -35.6  205678  12.205480 -35.6   \n",
       "1             1 -40.0  110327   8.547177 -40.0   50948   5.253032 -40.0   \n",
       "2             2 -48.8   45396   1.684958 -48.8   24161   1.207064 -48.8   \n",
       "3             3 -33.9  332501  23.454754 -33.9  188482  15.586816 -33.9   \n",
       "4             4 -32.3  400527  17.601413 -32.3  218451  11.917326 -32.8   \n",
       "..          ...   ...     ...        ...   ...     ...        ...   ...   \n",
       "895         895 -36.3   69448   2.771265 -36.3   42503   2.158875 -36.3   \n",
       "896         896 -41.4   11150   0.422389 -41.4    8122   0.419507 -41.4   \n",
       "897         897 -42.3   79515   3.504348 -42.3   50253   2.717348 -42.3   \n",
       "898         898 -40.3  764717  43.409018 -40.3  408454  26.362515 -38.9   \n",
       "899         899 -47.1  294665  12.825848 -47.1  152875   8.893649 -47.1   \n",
       "\n",
       "          7          8  \n",
       "0    185876  11.159830  \n",
       "1     39657   4.700786  \n",
       "2     22604   1.131164  \n",
       "3    169109  14.647457  \n",
       "4    211885  11.545099  \n",
       "..      ...        ...  \n",
       "895   35794   1.845743  \n",
       "896    7288   0.378571  \n",
       "897   48092   2.607856  \n",
       "898  376801  25.186562  \n",
       "899  143136   8.468785  \n",
       "\n",
       "[900 rows x 10 columns]"
      ]
     },
     "execution_count": 53,
     "metadata": {},
     "output_type": "execute_result"
    }
   ],
   "source": [
    "filename = \"dataset_100_large.csv\"\n",
    "# filename = \"dataset_200_large.csv\"\n",
    "filename = \"dataset_200_large.csv2\"\n",
    "\n",
    "df = pd.read_csv(filename)\n",
    "# sns.histplot(data=df)\n",
    "\n",
    "df\n"
   ]
  },
  {
   "cell_type": "code",
   "execution_count": 54,
   "metadata": {},
   "outputs": [
    {
     "name": "stdout",
     "output_type": "stream",
     "text": [
      "0 -36.93927777777778 12.007738133801354\n",
      "3 -37.02412222222223 7.7997696759965685\n",
      "-0.08484444444444449 3.8276432164038336\n",
      "-0.08484444444444449 0.48526237900284985\n"
     ]
    },
    {
     "data": {
      "image/png": "[encoded data removed]",
      "text/plain": [
       "<Figure size 1152x432 with 1 Axes>"
      ]
     },
     "metadata": {},
     "output_type": "display_data"
    }
   ],
   "source": [
    "print (\"0\", df[\"0\"].mean(), df[\"2\"].mean())\n",
    "print (\"3\", df[\"3\"].mean(), df[\"5\"].mean())\n",
    "differences = df[\"3\"] - df[\"0\"]\n",
    "print(differences.mean(), df[\"8\"].mean()/df[\"2\"].mean())\n",
    "print(differences.mean(), df[\"7\"].mean()/df[\"1\"].mean())\n",
    "\n",
    "sns.set(rc={'figure.figsize':(16,6)})\n",
    "plt.style.use('seaborn-whitegrid')\n",
    "sns.histplot(differences, bins=50)\n",
    "plt.yscale('log',base=10)\n",
    "plt.title(\"barrier energy shift (regular model vs. simplified)\")     \n",
    "plt.xlabel(\"kcal/mol shift\")    \n",
    "plt.ylabel(\"Count (log-Scale)\")\n",
    "plt.savefig(\"barrier_shift_simple1.png\", bbox_inches='tight')"
   ]
  },
  {
   "cell_type": "code",
   "execution_count": 50,
   "metadata": {},
   "outputs": [
    {
     "name": "stdout",
     "output_type": "stream",
     "text": [
      "0 -36.93927777777778 12.007738133801354\n",
      "6 -37.0046111111111 45.96133741219838\n",
      "-0.06533333333333334 8073.360697150831\n",
      "-0.06533333333333334 -0.0001852323784338735\n"
     ]
    },
    {
     "data": {
      "image/png": "[encoded data removed]",
      "text/plain": [
       "<Figure size 1152x432 with 1 Axes>"
      ]
     },
     "metadata": {},
     "output_type": "display_data"
    }
   ],
   "source": [
    "print (\"0\", df[\"0\"].mean(), df[\"2\"].mean())\n",
    "print (\"6\", df[\"6\"].mean(), df[\"8\"].mean())\n",
    "differences = df[\"6\"] - df[\"0\"]\n",
    "print(differences.mean(), df[\"7\"].mean()/df[\"2\"].mean())\n",
    "print(differences.mean(), df[\"6\"].mean()/df[\"1\"].mean())\n",
    "\n",
    "sns.set(rc={'figure.figsize':(16,6)})\n",
    "plt.style.use('seaborn-whitegrid')\n",
    "sns.histplot(differences, bins=50)\n",
    "plt.yscale('log',base=10)\n",
    "plt.title(\"barrier energy shift (regular model vs. simplified version 2)\")     \n",
    "plt.xlabel(\"kcal/mol shift\")    \n",
    "plt.ylabel(\"Count (log-Scale)\")\n",
    "plt.savefig(\"barrier_shift_simple2.png\", bbox_inches='tight')"
   ]
  },
  {
   "cell_type": "code",
   "execution_count": 13,
   "metadata": {},
   "outputs": [
    {
     "name": "stdout",
     "output_type": "stream",
     "text": [
      "0 2.554139349460602\n",
      "6 1.7924398462772368\n"
     ]
    }
   ],
   "source": [
    "# Runtimes\n",
    "print (\"0\", df[\"2\"].mean())\n",
    "print (\"6\", df[\"5\"].mean())"
   ]
  }
 ],
 "metadata": {
  "interpreter": {
   "hash": "31f2aee4e71d21fbe5cf8b01ff0e069b9275f58929596ceb00d14d90e3e16cd6"
  },
  "kernelspec": {
   "display_name": "Python 3.7.3 64-bit",
   "language": "python",
   "name": "python3"
  },
  "language_info": {
   "codemirror_mode": {
    "name": "ipython",
    "version": 3
   },
   "file_extension": ".py",
   "mimetype": "text/x-python",
   "name": "python",
   "nbconvert_exporter": "python",
   "pygments_lexer": "ipython3",
   "version": "3.8.10"
  },
  "orig_nbformat": 4
 },
 "nbformat": 4,
 "nbformat_minor": 2
}
