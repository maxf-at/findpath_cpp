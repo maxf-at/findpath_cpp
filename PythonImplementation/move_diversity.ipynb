{
 "cells": [
  {
   "cell_type": "code",
   "execution_count": 1,
   "source": [
    "import RNA\n",
    "import numpy as np\n",
    "\n",
    "import subprocess\n",
    "import matplotlib.pyplot as plt\n",
    "from PIL import Image\n",
    "from IPython.display import SVG, display\n",
    "from collections import Counter\n",
    "from collections import defaultdict\n",
    "\n",
    "import difflib\n",
    "import sys\n",
    "import os\n",
    "import random\n",
    "import string\n",
    "import time\n",
    "\n",
    "# from helper import print_moves\n",
    "\n",
    "import pandas as pd\n",
    "\n",
    "sys.path.append('../')\n",
    "from pretty_print_path import print_moves\n",
    "import findpath_librna\n",
    "import findpath\n"
   ],
   "outputs": [],
   "metadata": {}
  },
  {
   "cell_type": "code",
   "execution_count": 2,
   "source": [
    "%load_ext autoreload\n",
    "%autoreload 2\n",
    "np.set_printoptions(precision=3)\n",
    "np.set_printoptions(suppress=True) # no scientific notation\n",
    "\n",
    "# import feature_generation\n",
    "from features import ij_distance, new_move_dist, plt_moves, config_distance, balance_in_all_things, return_shift_moves\n",
    "from process_features import fp_call, find_moves, process"
   ],
   "outputs": [],
   "metadata": {}
  },
  {
   "cell_type": "code",
   "execution_count": 44,
   "source": [
    "sequence = 'AGGUGUUAUAAAAGUGCAGAGCCAAGUCACCGCCUUGCCGUCGCUUCCGCUAUGCCUCAAAAGCGGAAUAUCGAGCGAGCGAUUGUGAUUCGAAUGGUCG'\n",
    "s1       = '.(((................))).((((((....(((((((((.(((((((.(......).)))))))...))).)).))))..))))))..........'\n",
    "s2       = '...(((.........)))..((((((((((.(((((((((....(((((((.(......).)))))))...)).))))).).).))))))....))))..'\n",
    "\n",
    "search_width = 60\n",
    "# search_width = 500\n",
    "\n",
    "s = s1\n",
    "\n",
    "sw = 2\n",
    "fp = findpath.findpath_single(sequence, s1, s2, search_width_multiplier=sw, mp=True)\n",
    "result = fp.get_en()/100.0\n",
    "path = fp.get_path()\n",
    "\n",
    "\n",
    "add_moves        = set()\n",
    "delete_moves     = set()\n",
    "available_add    = set()\n",
    "available_delete = set()\n",
    "\n",
    "en_contrib = []\n",
    "\n",
    "for e, tup in enumerate(path):\n",
    "    i = tup[0]\n",
    "    j = tup[1]\n",
    "    if i<0:\n",
    "        delete_moves.add((i,j))\n",
    "    if i>0:\n",
    "        add_moves.add((i,j))\n",
    "\n",
    "## we are evaluating 1 node = 1 structure\n",
    "## means we are evaluating ALL moves (i, j) and see if we can find any patterns\n",
    "\n",
    "##np.mean(en_contrib) ## mean of energies\n",
    "##np.std(en_contrib) ## diversity of energies\n",
    "\n",
    "\n",
    "## verhaeltnis delete add moves bezogen auf accessible moves\n",
    "## mean of energy\n",
    "## how many add / delete moves are currently available?\n",
    "## if len(available_delete)/len(delete_moves) is high, the probability\n",
    "## of making a wrong decision is probably quite high. \n",
    "\n",
    "## -------\n",
    "## true values for classifier:\n",
    "## - percentage of moves which lead to the optimal result?\n",
    "## - sort by energy, where is the first contribution which leads to the optimal result? \n",
    "## - look at top energy contributions: how long do we have to postpone them to get the optimal result? \n",
    "\n",
    "\n",
    "fc = RNA.fold_compound(sequence)\n",
    "pt = list(RNA.ptable(s))\n",
    "pt1 = list(RNA.ptable(s1))\n",
    "pt2 = list(RNA.ptable(s2))\n",
    "\n",
    "for pos, (i,j) in enumerate(find_moves(pt, pt2)):  \n",
    "    if (i,j) in add_moves:\n",
    "        available_add.add((i,j))\n",
    "    if (i,j) in delete_moves:\n",
    "        available_delete.add((i,j))\n",
    "    \n",
    "    # map energies somehow to [0,1] such that the network will understand.  \n",
    "    en = np.interp(fc.eval_move_pt(pt, i, j)/100, [-10,10], [0,1]) \n",
    "    en_contrib.append(en)\n",
    "\n",
    "available_add, available_delete, len(available_add)/len(add_moves), len(available_delete)/len(delete_moves)\n",
    "\n",
    "np.std(en_contrib)"
   ],
   "outputs": [
    {
     "output_type": "execute_result",
     "data": {
      "text/plain": [
       "0.07859048825239605"
      ]
     },
     "metadata": {},
     "execution_count": 44
    }
   ],
   "metadata": {}
  },
  {
   "cell_type": "code",
   "execution_count": 39,
   "source": [
    "\n"
   ],
   "outputs": [
    {
     "output_type": "execute_result",
     "data": {
      "text/plain": [
       "0.10750000000000003"
      ]
     },
     "metadata": {},
     "execution_count": 39
    }
   ],
   "metadata": {}
  },
  {
   "cell_type": "code",
   "execution_count": 23,
   "source": [
    "# [   0,    0 ] .(((................))).((((((....(((((((((.(((((((.(......).)))))))...))).)).))))..))))))..........  -23.10 0.125\n",
    "# [  -4,  -21 ] .((..................)).((((((....(((((((((.(((((((.(......).)))))))...))).)).))))..))))))..........  -20.70 0.1875\n",
    "# [  -3,  -22 ] .(....................).((((((....(((((((((.(((((((.(......).)))))))...))).)).))))..))))))..........  -17.70 0.0\n",
    "# [  -2,  -23 ] ........................((((((....(((((((((.(((((((.(......).)))))))...))).)).))))..))))))..........  -21.90 0.05882\n",
    "# [  23,   96 ] ......................(.((((((....(((((((((.(((((((.(......).)))))))...))).)).))))..)))))).....)....  -18.10 0.0\n",
    "# [  22,   97 ] .....................((.((((((....(((((((((.(((((((.(......).)))))))...))).)).))))..)))))).....))...  -21.00 0.0\n",
    "# [  24,   95 ] .....................(((((((((....(((((((((.(((((((.(......).)))))))...))).)).))))..))))))....)))...  -23.60 0.0\n",
    "# [  21,   98 ] ....................((((((((((....(((((((((.(((((((.(......).)))))))...))).)).))))..))))))....))))..  -25.20 0.07692\n",
    "# [ -35,  -82 ] ....................((((((((((.....((((((((.(((((((.(......).)))))))...))).)).)))...))))))....))))..  -23.60 0.08333\n",
    "# [ -36,  -81 ] ....................((((((((((......(((((((.(((((((.(......).)))))))...))).)).))....))))))....))))..  -22.70 0.1667\n",
    "# [ -37,  -80 ] ....................((((((((((.......((((((.(((((((.(......).)))))))...))).)).).....))))))....))))..  -19.10 0.0\n",
    "# [ -38,  -79 ] ....................((((((((((........(((((.(((((((.(......).)))))))...))).)).......))))))....))))..  -20.00 0.1667\n",
    "# [ -39,  -77 ] ....................((((((((((.........((((.(((((((.(......).)))))))...))).)........))))))....))))..  -17.40 0.0\n",
    "# [ -40,  -76 ] ....................((((((((((..........(((.(((((((.(......).)))))))...)))..........))))))....))))..  -19.70 0.0\n",
    "# [  32,   83 ] ....................((((((((((.(........(((.(((((((.(......).)))))))...)))........).))))))....))))..  -18.10 0.0\n",
    "# [  33,   81 ] ....................((((((((((.((.......(((.(((((((.(......).)))))))...)))......).).))))))....))))..  -17.10 0.0\n",
    "# [  34,   79 ] ....................((((((((((.(((......(((.(((((((.(......).)))))))...)))....).).).))))))....))))..  -16.30 0.0\n",
    "# [  35,   78 ] ....................((((((((((.((((.....(((.(((((((.(......).)))))))...)))...)).).).))))))....))))..  -17.90 0.0\n",
    "# [  36,   77 ] ....................((((((((((.(((((....(((.(((((((.(......).)))))))...)))..))).).).))))))....))))..  -19.50 0.0\n",
    "# [  37,   76 ] ....................((((((((((.((((((...(((.(((((((.(......).)))))))...))).)))).).).))))))....))))..  -21.50 0.0\n",
    "# [  38,   75 ] ....................((((((((((.(((((((..(((.(((((((.(......).)))))))...)))))))).).).))))))....))))..  -24.60 0.0\n",
    "# [ -41,  -74 ] ....................((((((((((.(((((((...((.(((((((.(......).)))))))...)).))))).).).))))))....))))..  -23.20 0.0\n",
    "# [ -42,  -73 ] ....................((((((((((.(((((((....(.(((((((.(......).)))))))...)..))))).).).))))))....))))..  -19.90 0.0\n",
    "# [ -43,  -72 ] ....................((((((((((.(((((((......(((((((.(......).)))))))......))))).).).))))))....))))..  -22.70 0.0\n",
    "# [  39,   73 ] ....................((((((((((.((((((((.....(((((((.(......).)))))))....).))))).).).))))))....))))..  -21.90 0.0\n",
    "# [  40,   72 ] ....................((((((((((.(((((((((....(((((((.(......).)))))))...)).))))).).).))))))....))))..  -25.20 0.0\n",
    "# [   5,   17 ] ....(...........)...((((((((((.(((((((((....(((((((.(......).)))))))...)).))))).).).))))))....))))..  -21.20 0.0\n",
    "# [   6,   16 ] ....((.........))...((((((((((.(((((((((....(((((((.(......).)))))))...)).))))).).).))))))....))))..  -23.70 0.0"
   ],
   "outputs": [],
   "metadata": {}
  },
  {
   "cell_type": "code",
   "execution_count": 43,
   "source": [
    "# which nodes do we permutate first? in principle, this is a simlar concept as the findpath search width, where we just\n",
    "# use the sw. to perform a look-ahead\n",
    "\n",
    "## IDEA\n",
    "# check how many moves out of all choices are net-negative. \n",
    "\n",
    "\n",
    "def adjust_pt(pt, i, j):\n",
    "    pt_adj = pt.copy()\n",
    "    if i<0:\n",
    "        pt_adj[-i] = 0\n",
    "        pt_adj[-j] = 0\n",
    "    else:\n",
    "        pt_adj[i] = j\n",
    "        pt_adj[j] = i\n",
    "    return pt_adj\n",
    "\n",
    "\n",
    "fc = RNA.fold_compound(sequence)\n",
    "pt = list(RNA.ptable(s1))\n",
    "pt1 = list(RNA.ptable(s1))\n",
    "pt2 = list(RNA.ptable(s2))\n",
    "\n",
    "for i,j in find_moves(pt1, pt2):\n",
    "    \n",
    "    pt = adjust_pt(pt1, i, j)\n",
    "    s = RNA.db_from_ptable(pt)\n",
    "\n",
    "\n",
    "    search_width = 1\n",
    "    sE, path = findpath_librna.pathfinder(sequence, s, s2, search_width=search_width, return_paths=True)\n",
    "    \n",
    "    en = fc.eval_move_pt(pt1, i, j)\n",
    "\n",
    "    # print_moves(sequence, s, s2, path)\n",
    "    print (s, i, j, en, sE)\n",
    "\n",
    "    # break\n",
    "\n",
    "\n"
   ],
   "outputs": [
    {
     "output_type": "stream",
     "name": "stdout",
     "text": [
      "..((................))..((((((....(((((((((.(((((((.(......).)))))))...))).)).))))..)))))).......... -2 -23 380 -7.1\n",
      ".(.(................).).((((((....(((((((((.(((((((.(......).)))))))...))).)).))))..)))))).......... -3 -22 700 -7.1\n",
      ".((..................)).((((((....(((((((((.(((((((.(......).)))))))...))).)).))))..)))))).......... -4 -21 240 -7.1\n",
      ".((((...........)...))).((((((....(((((((((.(((((((.(......).)))))))...))).)).))))..)))))).......... 5 17 310 -6.5\n",
      ".(((.(.........)....))).((((((....(((((((((.(((((((.(......).)))))))...))).)).))))..)))))).......... 6 16 460 -6.5\n",
      ".(((................)))(((((((....(((((((((.(((((((.(......).)))))))...))).)).))))..))))))....)..... 24 95 450 -5.5\n",
      ".(((................))).((((((.(..(((((((((.(((((((.(......).)))))))...))).)).))))).)))))).......... 32 83 110 -7.1\n",
      ".(((................))).((((((.....((((((((.(((((((.(......).)))))))...))).)).)))...)))))).......... -35 -82 160 -7.1\n",
      ".(((................))).((((((....(.(((((((.(((((((.(......).)))))))...))).)).)).)..)))))).......... -36 -81 390 -7.1\n",
      ".(((................))).((((((....((.((((((.(((((((.(......).)))))))...))).)).).))..)))))).......... -37 -80 600 -11.7\n",
      ".(((................))).((((((....(((.(((((.(((((((.(......).)))))))...))).))..)))..)))))).......... -38 -79 520 -11.7\n",
      ".(((................))).((((((....((((.((((.(((((((.(......).)))))))...))).)..))))..)))))).......... -39 -77 420 -7.1\n",
      ".(((................))).((((((....(((((.(((.(((((((.(......).)))))))...)))..).))))..)))))).......... -40 -76 270 -7.1\n",
      ".(((................))).((((((....((((((.((.(((((((.(......).)))))))...))..)).))))..)))))).......... -41 -74 310 -6.4\n",
      ".(((................))).((((((....(((((((.(.(((((((.(......).)))))))...).).)).))))..)))))).......... -42 -73 600 -6.4\n",
      ".(((................))).((((((....((((((((..(((((((.(......).)))))))....)).)).))))..)))))).......... -43 -72 330 -6.7\n"
     ]
    }
   ],
   "metadata": {}
  }
 ],
 "metadata": {
  "interpreter": {
   "hash": "767d51c1340bd893661ea55ea3124f6de3c7a262a8b4abca0554b478b1e2ff90"
  },
  "kernelspec": {
   "name": "python3",
   "display_name": "Python 3.9.7 64-bit"
  },
  "language_info": {
   "name": "python",
   "version": "3.9.7",
   "mimetype": "text/x-python",
   "codemirror_mode": {
    "name": "ipython",
    "version": 3
   },
   "pygments_lexer": "ipython3",
   "nbconvert_exporter": "python",
   "file_extension": ".py"
  },
  "orig_nbformat": 4
 },
 "nbformat": 4,
 "nbformat_minor": 2
}