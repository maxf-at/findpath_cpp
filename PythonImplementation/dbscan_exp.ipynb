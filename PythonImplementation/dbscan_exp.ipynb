{
 "cells": [
  {
   "cell_type": "code",
   "execution_count": 7,
   "metadata": {},
   "outputs": [],
   "source": [
    "import RNA\n",
    "\n",
    "import numpy as np\n",
    "import pandas as pd\n",
    "import matplotlib.pyplot as plt\n",
    "from PIL import Image\n",
    "from IPython.display import SVG, display\n",
    "\n",
    "from collections import Counter\n",
    "from collections import defaultdict\n",
    "import subprocess\n",
    "import difflib\n",
    "import sys\n",
    "import os\n",
    "import random\n",
    "import string\n",
    "import time\n",
    "\n",
    "import tensorflow as tf\n",
    "from tensorflow import feature_column\n",
    "from tensorflow.keras import layers\n",
    "from sklearn.model_selection import train_test_split\n",
    "from sklearn.cluster import DBSCAN\n",
    "\n",
    "sys.path.append('../')\n",
    "from pretty_print_path import print_moves\n",
    "import findpath_librna\n",
    "import findpath"
   ]
  },
  {
   "cell_type": "code",
   "execution_count": 2,
   "metadata": {},
   "outputs": [],
   "source": [
    "sequence = 'CCUCUUGGCAAGGAACUGUUGUAUGACGGUACGUAACGCGCGCCAGAGCUCAAGAUUCAAACGGCGGCUUCAGAACUCAGUCAGGCGAAGAAGCCAGCAC'\n",
    "s1       = '.......((.(.(.((((((....)))))).).)...))........................((((((((....((......))....)))))).))..'\n",
    "s2       = '.(((.((((..(..((((((....)))))).).........)))))))...............((((((((....((......))....)))))).))..'\n",
    "\n",
    "# sequence = 'GAGACCGAUACGAUUAAGCCAGAAUUCCAAUGAUUUGGGGAUCGGGGCUGUUUAGUCUCGUUUAAUCCCGGCGAUGUCUGGGUCAUAUUGUCCGUUAACC' \n",
    "# s1       = '(.((.(((((.(((....(((((..(((((....)))(((..(((((((....)))))))......)))...))..)))))))).)))))))).......'\n",
    "# s2       = '.((((.((.((.....((((.((.((((((....)))))).))..)))).....)).))))))...(((((......)))))..................'\n",
    "\n",
    "sequence = 'GACUGCCUCAAUUUCCACUUCGCCACAAUGUGAGGUCUCAUUCAACUGCCGCUCAUAAUGGUCGGUCAAUGAGGUCCAUCCGGUCCCUCCAGCCUGGCUA'\n",
    "s1       = '.....................((((...((..((..((((((..((((((.........)).)))).))))))............).).))...))))..'\n",
    "s2       = '.....................((((...((.((((.((...(((...((((((......)).))))...)))((.....)))).)).))))...))))..'\n",
    "\n",
    "sequence = \"AACGGGGGCUUCAACUCGCUCAGAAUCAGCGGUAUAGAUAUCCGGGUAGCGGCUUAAAGCAGCACUUUACCAUCGAGGGGGCAAGGAACACUAGCCGACU\"\n",
    "s1       = \"..((((....((...(((((.......)))))....))..))))(((((.(.(........)..).)))))....((..(((.((.....)).)))..))\"\n",
    "s2       = \"..((((....((...(((((.......)))))....))..))))((((.(.((.....)).).....))))....((..(((.((.....)).)))..))\""
   ]
  },
  {
   "cell_type": "code",
   "execution_count": 3,
   "metadata": {},
   "outputs": [],
   "source": [
    "# alternative 192\n",
    "# 807 ! 809 13 \n",
    "filename_samples = f'./dataset_100_large.csv'\n",
    "samples_df = pd.read_csv(filename_samples)\n",
    "for index, row in samples_df.iterrows():\n",
    "    if index != 417:\n",
    "        continue\n",
    "    sequence = row.sequence\n",
    "    s1 = row.s1\n",
    "    s2 = row.s2\n"
   ]
  },
  {
   "cell_type": "code",
   "execution_count": 5,
   "metadata": {},
   "outputs": [
    {
     "name": "stdout",
     "output_type": "stream",
     "text": [
      "sequence = \"AACGGGGGCUUCAACUCGCUCAGAAUCAGCGGUAUAGAUAUCCGGGUAGCGGCUUAAAGCAGCACUUUACCAUCGAGGGGGCAAGGAACACUAGCCGACU\"\n",
      "s1 = \"..((((...((..((.((((.......))))))..))...))))(((((.((((......))).).)))))....((..(((.((.....)).)))..))\"\n",
      "s2 = \"..((((....((...(((((.......)))))....))..))))((((((.(((...))).))....))))....((..(((.((.....)).)))..))\"\n",
      "17\n",
      "AACGGGGGCUUCAACUCGCUCAGAAUCAGCGGUAUAGAUAUCCGGGUAGCGGCUUAAAGCAGCACUUUACCAUCGAGGGGGCAAGGAACACUAGCCGACU\n",
      "\u001b[93m[   0,    0 ]\u001b[0m ..((((...((..((.((((.......))))))..))...))))(((((.((((......))).).)))))....((..(((.((.....)).)))..))  -23.00\n",
      "\u001b[93m[ -10,  -37 ]\u001b[0m ..((((...\u001b[93m\u001b[1m.\u001b[0m(..((.((((.......))))))..)\u001b[93m\u001b[1m.\u001b[0m...))))(((((.((((......))).).)))))....((..(((.((.....)).)))..))  -22.10\n",
      "\u001b[93m[ -11,  -36 ]\u001b[0m ..((((....\u001b[93m\u001b[1m.\u001b[0m..((.((((.......))))))..\u001b[93m\u001b[1m.\u001b[0m....))))(((((.((((......))).).)))))....((..(((.((.....)).)))..))  -24.00\n",
      "\u001b[93m[ -54,  -61 ]\u001b[0m ..((((.......((.((((.......)))))).......))))(((((.(((\u001b[93m\u001b[1m.\u001b[0m......\u001b[93m\u001b[1m.\u001b[0m)).).)))))....((..(((.((.....)).)))..))  -22.70\n",
      "\u001b[93m[ -51,  -65 ]\u001b[0m ..((((.......((.((((.......)))))).......))))(((((.\u001b[93m\u001b[1m.\u001b[0m((........)).\u001b[93m\u001b[1m.\u001b[0m.)))))....((..(((.((.....)).)))..))  -21.40\n",
      "\u001b[93m[ -53,  -62 ]\u001b[0m ..((((.......((.((((.......)))))).......))))(((((..(\u001b[93m\u001b[1m.\u001b[0m........\u001b[93m\u001b[1m.\u001b[0m)...)))))....((..(((.((.....)).)))..))  -17.10\n",
      "\u001b[93m[ -52,  -63 ]\u001b[0m ..((((.......((.((((.......)))))).......))))(((((..\u001b[93m\u001b[1m.\u001b[0m..........\u001b[93m\u001b[1m.\u001b[0m...)))))....((..(((.((.....)).)))..))  -18.40\n",
      "\u001b[93m[  50,   62 ]\u001b[0m ..((((.......((.((((.......)))))).......))))(((((\u001b[93m\u001b[1m(\u001b[0m...........\u001b[93m\u001b[1m)\u001b[0m....)))))....((..(((.((.....)).)))..))  -16.90\n",
      "\u001b[93m[  53,   59 ]\u001b[0m ..((((.......((.((((.......)))))).......))))((((((..\u001b[93m\u001b[1m(\u001b[0m.....\u001b[93m\u001b[1m)\u001b[0m..)....)))))....((..(((.((.....)).)))..))  \u001b[91m\u001b[1m-16.40\u001b[0m\n",
      "\u001b[93m[  52,   60 ]\u001b[0m ..((((.......((.((((.......)))))).......))))((((((.\u001b[93m\u001b[1m(\u001b[0m(.....)\u001b[93m\u001b[1m)\u001b[0m.)....)))))....((..(((.((.....)).)))..))  -19.40\n",
      "\u001b[93m[  54,   58 ]\u001b[0m ..((((.......((.((((.......)))))).......))))((((((.((\u001b[93m\u001b[1m(\u001b[0m...\u001b[93m\u001b[1m)\u001b[0m)).)....)))))....((..(((.((.....)).)))..))  -20.30\n",
      "\u001b[93m[ -49,  -67 ]\u001b[0m ..((((.......((.((((.......)))))).......))))((((\u001b[93m\u001b[1m.\u001b[0m(.(((...))).)....\u001b[93m\u001b[1m.\u001b[0m))))....((..(((.((.....)).)))..))  -18.70\n",
      "\u001b[93m[  49,   63 ]\u001b[0m ..((((.......((.((((.......)))))).......))))((((\u001b[93m\u001b[1m(\u001b[0m(.(((...))).)\u001b[93m\u001b[1m)\u001b[0m....))))....((..(((.((.....)).)))..))  -23.10\n",
      "\u001b[93m[  12,   37 ]\u001b[0m ..((((.....\u001b[93m\u001b[1m(\u001b[0m.((.((((.......))))))...\u001b[93m\u001b[1m)\u001b[0m...))))((((((.(((...))).))....))))....((..(((.((.....)).)))..))  -20.20\n",
      "\u001b[93m[  11,   38 ]\u001b[0m ..((((....\u001b[93m\u001b[1m(\u001b[0m(.((.((((.......))))))...)\u001b[93m\u001b[1m)\u001b[0m..))))((((((.(((...))).))....))))....((..(((.((.....)).)))..))  -22.80\n",
      "\u001b[93m[ -14,  -33 ]\u001b[0m ..((((....((.\u001b[93m\u001b[1m.\u001b[0m(.((((.......)))))\u001b[93m\u001b[1m.\u001b[0m...))..))))((((((.(((...))).))....))))....((..(((.((.....)).)))..))  -20.40\n",
      "\u001b[93m[ -15,  -32 ]\u001b[0m ..((((....((..\u001b[93m\u001b[1m.\u001b[0m.((((.......))))\u001b[93m\u001b[1m.\u001b[0m....))..))))((((((.(((...))).))....))))....((..(((.((.....)).)))..))  -21.10\n",
      "\u001b[93m[  16,   32 ]\u001b[0m ..((((....((...\u001b[93m\u001b[1m(\u001b[0m((((.......))))\u001b[93m\u001b[1m)\u001b[0m....))..))))((((((.(((...))).))....))))....((..(((.((.....)).)))..))  -22.20\n",
      "S: -16.40 kcal/mol | B:   6.60 kcal/mol | E[start]:-23.00 E[end]:-22.20\n"
     ]
    },
    {
     "data": {
      "text/plain": [
       "-16.4"
      ]
     },
     "execution_count": 5,
     "metadata": {},
     "output_type": "execute_result"
    }
   ],
   "source": [
    "print(f\"sequence = \\\"{sequence}\\\"\")\n",
    "print(f\"s1 = \\\"{s1}\\\"\")\n",
    "print(f\"s2 = \\\"{s2}\\\"\")\n",
    "print (RNA.bp_distance(s1, s2))\n",
    "\n",
    "sw = 6\n",
    "fp = findpath.findpath_single(sequence, s1, s2, search_width_multiplier=sw, mp=False)\n",
    "result = fp.get_en()/100.0\n",
    "path = fp.get_path()\n",
    "\n",
    "print_moves(sequence, s1, s2, path, convert_to_float=True)"
   ]
  },
  {
   "cell_type": "code",
   "execution_count": 27,
   "metadata": {},
   "outputs": [
    {
     "name": "stdout",
     "output_type": "stream",
     "text": [
      "{(0, 0, -2300): 0, (-10, -37, -2210): 1, (-11, -36, -2400): 1, (-54, -61, -2270): 2, (-51, -65, -2140): 3, (-53, -62, -1710): 2, (-52, -63, -1840): 2, (50, 62, -1690): 4, (53, 59, -1640): 5, (52, 60, -1940): 5, (54, 58, -2030): 5, (-49, -67, -1870): 6, (49, 63, -2310): 4, (12, 37, -2020): 7, (11, 38, -2280): 7, (-14, -33, -2040): 8, (-15, -32, -2110): 8, (16, 32, -2220): 9}\n"
     ]
    },
    {
     "data": {
      "image/png": "[encoded data removed]",
      "text/plain": [
       "<Figure size 720x720 with 1 Axes>"
      ]
     },
     "metadata": {
      "needs_background": "light"
     },
     "output_type": "display_data"
    }
   ],
   "source": [
    "def cluster_moves(inputmoves, absolute_values=False):\n",
    "    \"\"\"\n",
    "    cluster moves with DBscan. needs to include the last move as well...\n",
    "    \"\"\"\n",
    "    \n",
    "    if absolute_values:\n",
    "        moves = np.array([(abs(i[0]), abs(i[1])) for i in inputmoves])\n",
    "    else:\n",
    "        moves = np.array([(i[0], i[1]) for i in inputmoves])\n",
    "\n",
    "    # print (\"clustering\", moves)\n",
    "    clustering = DBSCAN(eps=2, min_samples=1).fit(moves)\n",
    "    \n",
    "    # generate clustering dict (move-tuple:label, ...)\n",
    "    return {i[0]:i[1] for i in zip(inputmoves, clustering.labels_)}, clustering.labels_\n",
    "\n",
    "\n",
    "labeldict, labels = cluster_moves(path)\n",
    "\n",
    "print (labeldict)\n",
    "\n",
    "x = [i[0] for i in path]\n",
    "y = [i[1] for i in path]\n",
    "\n",
    "plt.figure(figsize=(10,10))\n",
    "plt.scatter(x,y,c=labels,s=45)\n",
    "plt.title('Clustering',fontsize=20)\n",
    "plt.xlabel('Feature 1',fontsize=14)\n",
    "plt.ylabel('Feature 2',fontsize=14)\n",
    "plt.show()\n",
    "\n",
    "# print (path)\n"
   ]
  }
 ],
 "metadata": {
  "interpreter": {
   "hash": "767d51c1340bd893661ea55ea3124f6de3c7a262a8b4abca0554b478b1e2ff90"
  },
  "kernelspec": {
   "display_name": "Python 3.8.6 64-bit",
   "language": "python",
   "name": "python3"
  },
  "language_info": {
   "codemirror_mode": {
    "name": "ipython",
    "version": 3
   },
   "file_extension": ".py",
   "mimetype": "text/x-python",
   "name": "python",
   "nbconvert_exporter": "python",
   "pygments_lexer": "ipython3",
   "version": "3.8.6"
  },
  "orig_nbformat": 4
 },
 "nbformat": 4,
 "nbformat_minor": 2
}
