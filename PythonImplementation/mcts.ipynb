{
 "cells": [
  {
   "cell_type": "code",
   "execution_count": 62,
   "metadata": {},
   "outputs": [],
   "source": [
    "import RNA\n",
    "\n",
    "import numpy as np\n",
    "import networkx as nx\n",
    "import matplotlib.pyplot as plt\n",
    "from PIL import Image\n",
    "from IPython.display import SVG, display\n",
    "import pandas as pd\n",
    "\n",
    "from collections import defaultdict\n",
    "from collections import Counter\n",
    "import subprocess\n",
    "import difflib\n",
    "import sys\n",
    "import os\n",
    "import random\n",
    "import string\n",
    "import time\n",
    "\n",
    "# from helper import print_moves\n",
    "sys.path.append('../')\n",
    "from pretty_print_path import print_moves\n",
    "import findpath_librna\n",
    "import findpath\n"
   ]
  },
  {
   "cell_type": "code",
   "execution_count": 3,
   "metadata": {},
   "outputs": [
    {
     "name": "stdout",
     "output_type": "stream",
     "text": [
      "The autoreload extension is already loaded. To reload it, use:\n",
      "  %reload_ext autoreload\n"
     ]
    }
   ],
   "source": [
    "%load_ext autoreload\n",
    "%autoreload 2\n",
    "np.set_printoptions(precision=3)\n",
    "np.set_printoptions(suppress=True) # no scientific notation\n",
    "\n",
    "# import feature_generation\n",
    "from features import ij_distance, new_move_dist, plt_moves, config_distance, balance_in_all_things, return_shift_moves\n",
    "from process_features import fp_call, find_moves, process"
   ]
  },
  {
   "cell_type": "code",
   "execution_count": 107,
   "metadata": {},
   "outputs": [
    {
     "name": "stdout",
     "output_type": "stream",
     "text": [
      "[(0, 0, -23.100000381469727), (-4, -21, -20.7), (-3, -22, -17.7), (-2, -23, -21.9), (23, 96, -18.1), (22, 97, -21.0), (24, 95, -23.6), (21, 98, -25.2), (-35, -82, -23.6), (-36, -81, -22.7), (-37, -80, -19.1), (-38, -79, -20.0), (-39, -77, -17.4), (-40, -76, -19.7), (32, 83, -18.1), (33, 81, -17.1), (34, 79, -16.3), (35, 78, -17.9), (36, 77, -19.5), (37, 76, -21.5), (38, 75, -24.6), (-41, -74, -23.2), (-42, -73, -19.9), (-43, -72, -22.7), (39, 73, -21.9), (40, 72, -25.2), (5, 17, -21.2), (6, 16, -23.7), (4, 18, -24.6)]\n",
      "28 29\n",
      "AGGUGUUAUAAAAGUGCAGAGCCAAGUCACCGCCUUGCCGUCGCUUCCGCUAUGCCUCAAAAGCGGAAUAUCGAGCGAGCGAUUGUGAUUCGAAUGGUCG\n",
      "\u001b[93m[   0,    0 ]\u001b[0m .(((................))).((((((....(((((((((.(((((((.(......).)))))))...))).)).))))..))))))..........  -23.10\n",
      "\u001b[93m[  -4,  -21 ]\u001b[0m .((\u001b[93m\u001b[1m.\u001b[0m................\u001b[93m\u001b[1m.\u001b[0m)).((((((....(((((((((.(((((((.(......).)))))))...))).)).))))..))))))..........  -20.70\n",
      "\u001b[93m[  -3,  -22 ]\u001b[0m .(\u001b[93m\u001b[1m.\u001b[0m..................\u001b[93m\u001b[1m.\u001b[0m).((((((....(((((((((.(((((((.(......).)))))))...))).)).))))..))))))..........  -17.70\n",
      "\u001b[93m[  -2,  -23 ]\u001b[0m .\u001b[93m\u001b[1m.\u001b[0m....................\u001b[93m\u001b[1m.\u001b[0m.((((((....(((((((((.(((((((.(......).)))))))...))).)).))))..))))))..........  -21.90\n",
      "\u001b[93m[  23,   96 ]\u001b[0m ......................\u001b[93m\u001b[1m(\u001b[0m.((((((....(((((((((.(((((((.(......).)))))))...))).)).))))..)))))).....\u001b[93m\u001b[1m)\u001b[0m....  -18.10\n",
      "\u001b[93m[  22,   97 ]\u001b[0m .....................\u001b[93m\u001b[1m(\u001b[0m(.((((((....(((((((((.(((((((.(......).)))))))...))).)).))))..)))))).....)\u001b[93m\u001b[1m)\u001b[0m...  -21.00\n",
      "\u001b[93m[  24,   95 ]\u001b[0m .....................((\u001b[93m\u001b[1m(\u001b[0m((((((....(((((((((.(((((((.(......).)))))))...))).)).))))..))))))....\u001b[93m\u001b[1m)\u001b[0m))...  -23.60\n",
      "\u001b[93m[  21,   98 ]\u001b[0m ....................\u001b[93m\u001b[1m(\u001b[0m(((((((((....(((((((((.(((((((.(......).)))))))...))).)).))))..))))))....)))\u001b[93m\u001b[1m)\u001b[0m..  -25.20\n",
      "\u001b[93m[ -35,  -82 ]\u001b[0m ....................((((((((((....\u001b[93m\u001b[1m.\u001b[0m((((((((.(((((((.(......).)))))))...))).)).)))\u001b[93m\u001b[1m.\u001b[0m..))))))....))))..  -23.60\n",
      "\u001b[93m[ -36,  -81 ]\u001b[0m ....................((((((((((.....\u001b[93m\u001b[1m.\u001b[0m(((((((.(((((((.(......).)))))))...))).)).))\u001b[93m\u001b[1m.\u001b[0m...))))))....))))..  -22.70\n",
      "\u001b[93m[ -37,  -80 ]\u001b[0m ....................((((((((((......\u001b[93m\u001b[1m.\u001b[0m((((((.(((((((.(......).)))))))...))).)).)\u001b[93m\u001b[1m.\u001b[0m....))))))....))))..  -19.10\n",
      "\u001b[93m[ -38,  -79 ]\u001b[0m ....................((((((((((.......\u001b[93m\u001b[1m.\u001b[0m(((((.(((((((.(......).)))))))...))).)).\u001b[93m\u001b[1m.\u001b[0m.....))))))....))))..  -20.00\n",
      "\u001b[93m[ -39,  -77 ]\u001b[0m ....................((((((((((........\u001b[93m\u001b[1m.\u001b[0m((((.(((((((.(......).)))))))...))).)\u001b[93m\u001b[1m.\u001b[0m.......))))))....))))..  -17.40\n",
      "\u001b[93m[ -40,  -76 ]\u001b[0m ....................((((((((((.........\u001b[93m\u001b[1m.\u001b[0m(((.(((((((.(......).)))))))...))).\u001b[93m\u001b[1m.\u001b[0m........))))))....))))..  -19.70\n",
      "\u001b[93m[  32,   83 ]\u001b[0m ....................((((((((((.\u001b[93m\u001b[1m(\u001b[0m........(((.(((((((.(......).)))))))...)))........\u001b[93m\u001b[1m)\u001b[0m.))))))....))))..  -18.10\n",
      "\u001b[93m[  33,   81 ]\u001b[0m ....................((((((((((.(\u001b[93m\u001b[1m(\u001b[0m.......(((.(((((((.(......).)))))))...)))......\u001b[93m\u001b[1m)\u001b[0m.).))))))....))))..  -17.10\n",
      "\u001b[93m[  34,   79 ]\u001b[0m ....................((((((((((.((\u001b[93m\u001b[1m(\u001b[0m......(((.(((((((.(......).)))))))...)))....\u001b[93m\u001b[1m)\u001b[0m.).).))))))....))))..  \u001b[91m\u001b[1m-16.30\u001b[0m\n",
      "\u001b[93m[  35,   78 ]\u001b[0m ....................((((((((((.(((\u001b[93m\u001b[1m(\u001b[0m.....(((.(((((((.(......).)))))))...)))...\u001b[93m\u001b[1m)\u001b[0m).).).))))))....))))..  -17.90\n",
      "\u001b[93m[  36,   77 ]\u001b[0m ....................((((((((((.((((\u001b[93m\u001b[1m(\u001b[0m....(((.(((((((.(......).)))))))...)))..\u001b[93m\u001b[1m)\u001b[0m)).).).))))))....))))..  -19.50\n",
      "\u001b[93m[  37,   76 ]\u001b[0m ....................((((((((((.(((((\u001b[93m\u001b[1m(\u001b[0m...(((.(((((((.(......).)))))))...))).\u001b[93m\u001b[1m)\u001b[0m))).).).))))))....))))..  -21.50\n",
      "\u001b[93m[  38,   75 ]\u001b[0m ....................((((((((((.((((((\u001b[93m\u001b[1m(\u001b[0m..(((.(((((((.(......).)))))))...)))\u001b[93m\u001b[1m)\u001b[0m)))).).).))))))....))))..  -24.60\n",
      "\u001b[93m[ -41,  -74 ]\u001b[0m ....................((((((((((.(((((((..\u001b[93m\u001b[1m.\u001b[0m((.(((((((.(......).)))))))...))\u001b[93m\u001b[1m.\u001b[0m))))).).).))))))....))))..  -23.20\n",
      "\u001b[93m[ -42,  -73 ]\u001b[0m ....................((((((((((.(((((((...\u001b[93m\u001b[1m.\u001b[0m(.(((((((.(......).)))))))...)\u001b[93m\u001b[1m.\u001b[0m.))))).).).))))))....))))..  -19.90\n",
      "\u001b[93m[ -43,  -72 ]\u001b[0m ....................((((((((((.(((((((....\u001b[93m\u001b[1m.\u001b[0m.(((((((.(......).)))))))...\u001b[93m\u001b[1m.\u001b[0m..))))).).).))))))....))))..  -22.70\n",
      "\u001b[93m[  39,   73 ]\u001b[0m ....................((((((((((.(((((((\u001b[93m\u001b[1m(\u001b[0m.....(((((((.(......).)))))))....\u001b[93m\u001b[1m)\u001b[0m.))))).).).))))))....))))..  -21.90\n",
      "\u001b[93m[  40,   72 ]\u001b[0m ....................((((((((((.((((((((\u001b[93m\u001b[1m(\u001b[0m....(((((((.(......).)))))))...\u001b[93m\u001b[1m)\u001b[0m).))))).).).))))))....))))..  -25.20\n",
      "\u001b[93m[   5,   17 ]\u001b[0m ....\u001b[93m\u001b[1m(\u001b[0m...........\u001b[93m\u001b[1m)\u001b[0m...((((((((((.(((((((((....(((((((.(......).)))))))...)).))))).).).))))))....))))..  -21.20\n",
      "\u001b[93m[   6,   16 ]\u001b[0m ....(\u001b[93m\u001b[1m(\u001b[0m.........\u001b[93m\u001b[1m)\u001b[0m)...((((((((((.(((((((((....(((((((.(......).)))))))...)).))))).).).))))))....))))..  -23.70\n",
      "\u001b[93m[   4,   18 ]\u001b[0m ...\u001b[93m\u001b[1m(\u001b[0m((.........))\u001b[93m\u001b[1m)\u001b[0m..((((((((((.(((((((((....(((((((.(......).)))))))...)).))))).).).))))))....))))..  -24.60\n",
      "S: -16.30 kcal/mol | B:   6.80 kcal/mol | E[start]:-23.10 E[end]:-24.60\n"
     ]
    },
    {
     "data": {
      "text/plain": [
       "-16.3"
      ]
     },
     "execution_count": 107,
     "metadata": {},
     "output_type": "execute_result"
    }
   ],
   "source": [
    "sequence = 'AGGUGUUAUAAAAGUGCAGAGCCAAGUCACCGCCUUGCCGUCGCUUCCGCUAUGCCUCAAAAGCGGAAUAUCGAGCGAGCGAUUGUGAUUCGAAUGGUCG'\n",
    "s1       = '.(((................))).((((((....(((((((((.(((((((.(......).)))))))...))).)).))))..))))))..........'\n",
    "s2       = '...(((.........)))..((((((((((.(((((((((....(((((((.(......).)))))))...)).))))).).).))))))....))))..'\n",
    "\n",
    "search_width = 60\n",
    "# search_width = 500\n",
    "\n",
    "sE, path = findpath_librna.pathfinder(sequence, s1, s2, search_width=search_width, return_paths=True)\n",
    "\n",
    "print(path)\n",
    "info = [0.125, 0.1875, 0.0, 0.058823529411764705, 0.0, 0.0, 0.0, 0.07692307692307693, 0.08333333333333333, 0.16666666666666666, 0.0, 0.16666666666666666, 0.0, 0.0, 0.0, 0.0, 0.0, 0.0, 0.0, 0.0, 0.0, 0.0, 0.0, 0.0, 0.0, 0.0, 0.0, 0.0]\n",
    "\n",
    "print (len(info), len(path))\n",
    "\n",
    "print_moves(sequence, s1, s2, path)"
   ]
  },
  {
   "cell_type": "code",
   "execution_count": 23,
   "metadata": {},
   "outputs": [],
   "source": [
    "# [   0,    0 ] .(((................))).((((((....(((((((((.(((((((.(......).)))))))...))).)).))))..))))))..........  -23.10 0.125\n",
    "# [  -4,  -21 ] .((..................)).((((((....(((((((((.(((((((.(......).)))))))...))).)).))))..))))))..........  -20.70 0.1875\n",
    "# [  -3,  -22 ] .(....................).((((((....(((((((((.(((((((.(......).)))))))...))).)).))))..))))))..........  -17.70 0.0\n",
    "# [  -2,  -23 ] ........................((((((....(((((((((.(((((((.(......).)))))))...))).)).))))..))))))..........  -21.90 0.05882\n",
    "# [  23,   96 ] ......................(.((((((....(((((((((.(((((((.(......).)))))))...))).)).))))..)))))).....)....  -18.10 0.0\n",
    "# [  22,   97 ] .....................((.((((((....(((((((((.(((((((.(......).)))))))...))).)).))))..)))))).....))...  -21.00 0.0\n",
    "# [  24,   95 ] .....................(((((((((....(((((((((.(((((((.(......).)))))))...))).)).))))..))))))....)))...  -23.60 0.0\n",
    "# [  21,   98 ] ....................((((((((((....(((((((((.(((((((.(......).)))))))...))).)).))))..))))))....))))..  -25.20 0.07692\n",
    "# [ -35,  -82 ] ....................((((((((((.....((((((((.(((((((.(......).)))))))...))).)).)))...))))))....))))..  -23.60 0.08333\n",
    "# [ -36,  -81 ] ....................((((((((((......(((((((.(((((((.(......).)))))))...))).)).))....))))))....))))..  -22.70 0.1667\n",
    "# [ -37,  -80 ] ....................((((((((((.......((((((.(((((((.(......).)))))))...))).)).).....))))))....))))..  -19.10 0.0\n",
    "# [ -38,  -79 ] ....................((((((((((........(((((.(((((((.(......).)))))))...))).)).......))))))....))))..  -20.00 0.1667\n",
    "# [ -39,  -77 ] ....................((((((((((.........((((.(((((((.(......).)))))))...))).)........))))))....))))..  -17.40 0.0\n",
    "# [ -40,  -76 ] ....................((((((((((..........(((.(((((((.(......).)))))))...)))..........))))))....))))..  -19.70 0.0\n",
    "# [  32,   83 ] ....................((((((((((.(........(((.(((((((.(......).)))))))...)))........).))))))....))))..  -18.10 0.0\n",
    "# [  33,   81 ] ....................((((((((((.((.......(((.(((((((.(......).)))))))...)))......).).))))))....))))..  -17.10 0.0\n",
    "# [  34,   79 ] ....................((((((((((.(((......(((.(((((((.(......).)))))))...)))....).).).))))))....))))..  -16.30 0.0\n",
    "# [  35,   78 ] ....................((((((((((.((((.....(((.(((((((.(......).)))))))...)))...)).).).))))))....))))..  -17.90 0.0\n",
    "# [  36,   77 ] ....................((((((((((.(((((....(((.(((((((.(......).)))))))...)))..))).).).))))))....))))..  -19.50 0.0\n",
    "# [  37,   76 ] ....................((((((((((.((((((...(((.(((((((.(......).)))))))...))).)))).).).))))))....))))..  -21.50 0.0\n",
    "# [  38,   75 ] ....................((((((((((.(((((((..(((.(((((((.(......).)))))))...)))))))).).).))))))....))))..  -24.60 0.0\n",
    "# [ -41,  -74 ] ....................((((((((((.(((((((...((.(((((((.(......).)))))))...)).))))).).).))))))....))))..  -23.20 0.0\n",
    "# [ -42,  -73 ] ....................((((((((((.(((((((....(.(((((((.(......).)))))))...)..))))).).).))))))....))))..  -19.90 0.0\n",
    "# [ -43,  -72 ] ....................((((((((((.(((((((......(((((((.(......).)))))))......))))).).).))))))....))))..  -22.70 0.0\n",
    "# [  39,   73 ] ....................((((((((((.((((((((.....(((((((.(......).)))))))....).))))).).).))))))....))))..  -21.90 0.0\n",
    "# [  40,   72 ] ....................((((((((((.(((((((((....(((((((.(......).)))))))...)).))))).).).))))))....))))..  -25.20 0.0\n",
    "# [   5,   17 ] ....(...........)...((((((((((.(((((((((....(((((((.(......).)))))))...)).))))).).).))))))....))))..  -21.20 0.0\n",
    "# [   6,   16 ] ....((.........))...((((((((((.(((((((((....(((((((.(......).)))))))...)).))))).).).))))))....))))..  -23.70 0.0"
   ]
  },
  {
   "cell_type": "code",
   "execution_count": 43,
   "metadata": {},
   "outputs": [
    {
     "name": "stdout",
     "output_type": "stream",
     "text": [
      "..((................))..((((((....(((((((((.(((((((.(......).)))))))...))).)).))))..)))))).......... -2 -23 380 -7.1\n",
      ".(.(................).).((((((....(((((((((.(((((((.(......).)))))))...))).)).))))..)))))).......... -3 -22 700 -7.1\n",
      ".((..................)).((((((....(((((((((.(((((((.(......).)))))))...))).)).))))..)))))).......... -4 -21 240 -7.1\n",
      ".((((...........)...))).((((((....(((((((((.(((((((.(......).)))))))...))).)).))))..)))))).......... 5 17 310 -6.5\n",
      ".(((.(.........)....))).((((((....(((((((((.(((((((.(......).)))))))...))).)).))))..)))))).......... 6 16 460 -6.5\n",
      ".(((................)))(((((((....(((((((((.(((((((.(......).)))))))...))).)).))))..))))))....)..... 24 95 450 -5.5\n",
      ".(((................))).((((((.(..(((((((((.(((((((.(......).)))))))...))).)).))))).)))))).......... 32 83 110 -7.1\n",
      ".(((................))).((((((.....((((((((.(((((((.(......).)))))))...))).)).)))...)))))).......... -35 -82 160 -7.1\n",
      ".(((................))).((((((....(.(((((((.(((((((.(......).)))))))...))).)).)).)..)))))).......... -36 -81 390 -7.1\n",
      ".(((................))).((((((....((.((((((.(((((((.(......).)))))))...))).)).).))..)))))).......... -37 -80 600 -11.7\n",
      ".(((................))).((((((....(((.(((((.(((((((.(......).)))))))...))).))..)))..)))))).......... -38 -79 520 -11.7\n",
      ".(((................))).((((((....((((.((((.(((((((.(......).)))))))...))).)..))))..)))))).......... -39 -77 420 -7.1\n",
      ".(((................))).((((((....(((((.(((.(((((((.(......).)))))))...)))..).))))..)))))).......... -40 -76 270 -7.1\n",
      ".(((................))).((((((....((((((.((.(((((((.(......).)))))))...))..)).))))..)))))).......... -41 -74 310 -6.4\n",
      ".(((................))).((((((....(((((((.(.(((((((.(......).)))))))...).).)).))))..)))))).......... -42 -73 600 -6.4\n",
      ".(((................))).((((((....((((((((..(((((((.(......).)))))))....)).)).))))..)))))).......... -43 -72 330 -6.7\n"
     ]
    }
   ],
   "source": [
    "# which nodes do we permutate first? in principle, this is a simlar concept as the findpath search width, where we just\n",
    "# use the sw. to perform a look-ahead\n",
    "\n",
    "## IDEA\n",
    "# check how many moves out of all choices are net-negative. \n",
    "\n",
    "\n",
    "def adjust_pt(pt, i, j):\n",
    "\n",
    "    pt_adj = pt.copy()\n",
    "    if i<0:\n",
    "        pt_adj[-i] = 0\n",
    "        pt_adj[-j] = 0\n",
    "    else:\n",
    "        pt_adj[i] = j\n",
    "        pt_adj[j] = i\n",
    "    return pt_adj\n",
    "\n",
    "\n",
    "fc = RNA.fold_compound(sequence)\n",
    "pt = list(RNA.ptable(s1))\n",
    "pt1 = list(RNA.ptable(s1))\n",
    "pt2 = list(RNA.ptable(s2))\n",
    "\n",
    "for i,j in find_moves(pt1, pt2):\n",
    "    \n",
    "    pt = adjust_pt(pt1, i, j)\n",
    "    s = RNA.db_from_ptable(pt)\n",
    "\n",
    "\n",
    "    search_width = 1\n",
    "    sE, path = findpath_librna.pathfinder(sequence, s, s2, search_width=search_width, return_paths=True)\n",
    "    \n",
    "    en = fc.eval_move_pt(pt1, i, j)\n",
    "\n",
    "    # print_moves(sequence, s, s2, path)\n",
    "    print (s, i, j, en, sE)\n",
    "\n",
    "    # break\n",
    "\n",
    "\n"
   ]
  },
  {
   "cell_type": "code",
   "execution_count": 105,
   "metadata": {},
   "outputs": [
    {
     "name": "stdout",
     "output_type": "stream",
     "text": [
      "-10.2\n"
     ]
    },
    {
     "data": {
      "image/png": "[encoded data removed]",
      "text/plain": [
       "<Figure size 600x400 with 1 Axes>"
      ]
     },
     "metadata": {},
     "output_type": "display_data"
    },
    {
     "name": "stdout",
     "output_type": "stream",
     "text": [
      "-16.3\n"
     ]
    },
    {
     "data": {
      "image/png": "[encoded data removed]",
      "text/plain": [
       "<Figure size 600x400 with 1 Axes>"
      ]
     },
     "metadata": {},
     "output_type": "display_data"
    }
   ],
   "source": [
    "\n",
    "\n",
    "s1 = '........................((((((....(((((((((.(((((((.(......).)))))))...))).)).))))..))))))..........'\n",
    "s2       = '...(((.........)))..((((((((((.(((((((((....(((((((.(......).)))))))...)).))))).).).))))))....))))..'\n",
    "s1 = '....................((((((((((......(((((((.(((((((.(......).)))))))...))).)).))....))))))....))))..'\n",
    "s1 = '....................((((((((((.........((((.(((((((.(......).)))))))...))).)........))))))....))))..'\n",
    "\n",
    "search_width = 1\n",
    "\n",
    "sE, path = findpath_librna.pathfinder(sequence, s1, s2, search_width=search_width, return_paths=True, return_s=True)\n",
    "\n",
    "# print(path)\n",
    "\n",
    "# sE, path = findpath_librna.pathfinder(sequence, s1, s2, search_width=search_width, return_paths=True)\n",
    "# print_moves(sequence, s1, s2, path)\n",
    "\n",
    "G = nx.DiGraph()\n",
    "\n",
    "def plot_graph(G, labeldict={}, filename='', x=20, y=12):\n",
    "\n",
    "    G = G.to_undirected()\n",
    "    \n",
    "    x = 12\n",
    "    y = 8\n",
    "\n",
    "    # visualization below\n",
    "    # plt.figure(figsize=(12, 8), dpi=250, facecolor='w', edgecolor='k')\n",
    "    plt.figure(figsize=(x, y), dpi=50, facecolor='w', edgecolor='k')\n",
    "    # pos = nx.spring_layout(G, dim=2, iterations=50)\n",
    "    pos = nx.draw_circular(G, labels=labeldict, with_labels = True)\n",
    "    edge_labels = nx.get_edge_attributes(G, \"label\")\n",
    "    node_labels = nx.get_node_attributes(G, \"label\")\n",
    "\n",
    "    # label offset\n",
    "    # pos_attrs = {}\n",
    "    # for node, coords in pos.items():\n",
    "    #     pos_attrs[node] = (coords[0], coords[1] - 0.07)\n",
    "    # formatted_edge_labels = {(elem[0],elem[1]):edge_labels[elem] for elem in edge_labels} # use this to modify the tuple keyed dict if it has > 2 elements, else ignore\n",
    "\n",
    "    colors = [node[1]['color'] for node in G.nodes(data=True)]\n",
    "    # nx.draw(G, pos, node_color=colors)\n",
    "    # nx.draw_networkx_labels(G,pos_attrs,node_labels,font_size=15,font_color='b')\n",
    "    # nx.draw_networkx_edge_labels(G,pos,edge_labels=formatted_edge_labels,font_size=11, font_color='red')\n",
    "    plt.show()\n",
    "\n",
    "\n",
    "def path_to_graph(G, path, offset=0):\n",
    "\n",
    "    node0 = path[0][3]\n",
    "    node1 = node0\n",
    "\n",
    "    G.add_node(node0)\n",
    "    G.nodes[node0]['color'] = \"g\"\n",
    "\n",
    "    labeldict = {}\n",
    "    labeldict[node0] = 0+offset\n",
    "\n",
    "    for i in range(0, len(path)-1):\n",
    "        node0 = s0 = path[i][3]\n",
    "        node1 = s1 = path[i+1][3]\n",
    "        en = path[i+1][2]\n",
    "\n",
    "        G.add_edge(node0, node1)\n",
    "        G[node0][node1]['weight'] = en\n",
    "        G.nodes[node1]['color'] = \"r\"\n",
    "\n",
    "        labeldict[node0] = i+offset\n",
    "        labeldict[node1] = i+1+offset\n",
    "\n",
    "        # G.nodes[node0]['label'] = i\n",
    "        # G.nodes[node1]['label'] = i+1\n",
    "\n",
    "    labeldict[node1] = len(path)+offset\n",
    "    G.nodes[node1]['color'] = \"g\"\n",
    "\n",
    "    return G, labeldict\n",
    "\n",
    "\n",
    "search_width = 1\n",
    "s1 = '....................((((((((((......(((((((.(((((((.(......).)))))))...))).)).))....))))))....))))..'\n",
    "sE, path = findpath_librna.pathfinder(sequence, s1, s2, search_width=search_width, return_paths=True, return_s=True)\n",
    "\n",
    "print(sE)\n",
    "offset = 0\n",
    "G, labeldict = path_to_graph(G, path, offset)\n",
    "plot_graph(G, labeldict)\n",
    "\n",
    "\n",
    "s1 = '....................((((((((((.........((((.(((((((.(......).)))))))...))).)........))))))....))))..'\n",
    "sE, path = findpath_librna.pathfinder(sequence, s1, s2, search_width=search_width, return_paths=True, return_s=True)\n",
    "\n",
    "print(sE)\n",
    "offset = 3\n",
    "G, labeldict = path_to_graph(G, path, offset)\n",
    "plot_graph(G, labeldict)\n",
    "\n",
    "\n",
    "\n",
    "\n"
   ]
  }
 ],
 "metadata": {
  "interpreter": {
   "hash": "767d51c1340bd893661ea55ea3124f6de3c7a262a8b4abca0554b478b1e2ff90"
  },
  "kernelspec": {
   "display_name": "Python 3.9.7 64-bit",
   "name": "python3"
  },
  "language_info": {
   "codemirror_mode": {
    "name": "ipython",
    "version": 3
   },
   "file_extension": ".py",
   "mimetype": "text/x-python",
   "name": "python",
   "nbconvert_exporter": "python",
   "pygments_lexer": "ipython3",
   "version": "3.9.7"
  },
  "orig_nbformat": 4
 },
 "nbformat": 4,
 "nbformat_minor": 2
}
