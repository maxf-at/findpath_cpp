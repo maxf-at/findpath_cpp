{
 "cells": [
  {
   "cell_type": "code",
   "execution_count": 9,
   "source": [
    "import RNA\n",
    "import numpy as np\n",
    "\n",
    "import subprocess\n",
    "import matplotlib.pyplot as plt\n",
    "from PIL import Image\n",
    "from IPython.display import SVG, display\n",
    "from collections import Counter\n",
    "from collections import defaultdict\n",
    "\n",
    "import difflib\n",
    "import sys\n",
    "import os\n",
    "import random\n",
    "import string\n",
    "import time\n",
    "\n",
    "import helper\n",
    "\n",
    "import pandas as pd"
   ],
   "outputs": [],
   "metadata": {}
  },
  {
   "cell_type": "code",
   "execution_count": 10,
   "source": [
    "sequence = \"AAAAUAAUGUACCGGACAUUCGCGCACGACCACCAUAUGGCAGAGCAUGU\"\n",
    "s1 = \".....(((((.....)))))...((.(..(((.....)))..).))....\"\n",
    "#          X             X\n",
    "s2 = \"......((((.....))))....((.(..(((.....)))..).))....\"\n",
    "\n",
    "\n",
    "i = -6\n",
    "j = -20\n",
    "\n"
   ],
   "outputs": [],
   "metadata": {}
  },
  {
   "cell_type": "code",
   "execution_count": 11,
   "source": [
    "size = 400\n",
    "helper.plot_layout(sequence, s1, layout=3, size=size)"
   ],
   "outputs": [
    {
     "output_type": "execute_result",
     "data": {
      "text/plain": [
       "<PIL.Image.Image image mode=RGB size=400x400 at 0x7F8060FE1070>"
      ],
      "image/png": "[encoded data removed]"
     },
     "metadata": {},
     "execution_count": 11
    }
   ],
   "metadata": {}
  },
  {
   "cell_type": "code",
   "execution_count": 12,
   "source": [
    "fc = RNA.fold_compound(sequence)\n",
    "\n",
    "en1 = fc.eval_structure(s1)\n",
    "en2 = en1 + fc.eval_move(s1, i, j)\n",
    "print (en1, en2)\n",
    "\n",
    "en2 = fc.eval_structure(s2)\n",
    "print (en1, en2)"
   ],
   "outputs": [
    {
     "output_type": "stream",
     "name": "stdout",
     "text": [
      "-5.300000190734863 -4.600000202655792\n",
      "-5.300000190734863 -4.599999904632568\n"
     ]
    }
   ],
   "metadata": {}
  },
  {
   "cell_type": "code",
   "execution_count": 35,
   "source": [
    "pt1 = list(RNA.ptable(s1))\n",
    "le = pt1.copy()\n",
    "\n",
    "# different way to calculate initial energy in kcal/mol\n",
    "for n in range(len(pt1)):\n",
    "    if (pt1[n] == 0 or pt1[n] < n):\n",
    "        le[n] = 0;\n",
    "    else:\n",
    "        le[n] = fc.eval_loop_pt(n, pt1)/100.0\n",
    "\n",
    "en1 = sum(le)\n",
    "\n",
    "print (pt1)\n",
    "print (le)\n",
    "print (sum(le))\n",
    "\n",
    "old_loop = fc.eval_loop_pt(-i, pt1)/100.0\n",
    "\n",
    "pt1[-i] = 0\n",
    "pt1[-j] = 0\n",
    "\n",
    "# to get en2, substract the old loop energy from en1\n",
    "en2 = en1 - old_loop\n",
    "\n",
    "print (fc.eval_structure_pt(pt1)/100)\n",
    "\n",
    "print (en1, en2)"
   ],
   "outputs": [
    {
     "output_type": "stream",
     "name": "stdout",
     "text": [
      "[50, 0, 0, 0, 0, 0, 20, 19, 18, 17, 16, 0, 0, 0, 0, 0, 10, 9, 8, 7, 6, 0, 0, 0, 46, 45, 0, 43, 0, 0, 40, 39, 38, 0, 0, 0, 0, 0, 32, 31, 30, 0, 0, 27, 0, 25, 24, 0, 0, 0, 0]\n",
      "[-1.5, 0, 0, 0, 0, 0, -0.9, -1.1, -2.1, -2.2, 5.2, 0, 0, 0, 0, 0, 0, 0, 0, 0, 0, 0, 0, 0, -3.4, 0.9, 0, -0.4, 0, 0, -3.3, -2.1, 5.6, 0, 0, 0, 0, 0, 0, 0, 0, 0, 0, 0, 0, 0, 0, 0, 0, 0, 0]\n",
      "-5.300000000000001\n",
      "100000.0\n",
      "-5.300000000000001 -3.8000000000000007\n"
     ]
    },
    {
     "output_type": "stream",
     "name": "stderr",
     "text": [
      "WARNING: vrna_eval_structure_*: string and structure have unequal length (50 vs. 0)\n"
     ]
    }
   ],
   "metadata": {}
  },
  {
   "cell_type": "code",
   "execution_count": 47,
   "source": [
    "# find enclosing bp \n",
    "\n",
    "#     for (j = l + 1; j <= len; j++) {\n",
    "#         if (pt[j] <= 0) continue; /* unpaired */\n",
    "\n",
    "#         if (pt[j] < k) break; /* found it */\n",
    "\n",
    "#         if (pt[j] > j) {\n",
    "#             j = pt[j]; /* skip substructure */\n",
    "\n",
    "pt1 = list(RNA.ptable(s1))\n",
    "\n",
    "i = -6\n",
    "j = -20\n",
    "i = 11\n",
    "j = 15\n",
    "\n",
    "en1 = fc.eval_structure(s1)\n",
    "en2 = en1 + fc.eval_move(s1, i, j)\n",
    "print (en1, en2)W\n",
    "\n",
    "k = i if i>0 else -i\n",
    "l = j if j>0 else -j\n",
    "\n",
    "j = l+1\n",
    "\n",
    "while (True):\n",
    "\n",
    "    if j>=pt1[0]:\n",
    "        break   \n",
    "    if (pt1[j] <= 0):\n",
    "        j += 1\n",
    "        continue\n",
    "    if (pt1[j] < k):\n",
    "        break;\n",
    "    if (pt1[j] > j):\n",
    "        j = pt1[j]; \n",
    "    j += 1    \n",
    "    \n",
    "i = pt1[j] if (j <= pt1[0]) else 0;\n",
    "\n",
    "print (i, k, l, j)\n",
    "\n",
    "pt2 = pt1.copy()\n",
    "pt2[k] = l\n",
    "pt2[l] = k\n",
    "\n",
    "new_loop1 = fc.eval_loop_pt(i, pt2)/100.0\n",
    "print (new_loop1)\n",
    "\n",
    "new_loop2 = fc.eval_loop_pt(k, pt2)/100.0\n",
    "print (new_loop2)\n"
   ],
   "outputs": [
    {
     "output_type": "stream",
     "name": "stdout",
     "text": [
      "-5.300000190734863 -5.5000001937150955\n",
      "10 11 15 16\n",
      "-0.9\n",
      "5.9\n"
     ]
    }
   ],
   "metadata": {}
  }
 ],
 "metadata": {
  "orig_nbformat": 4,
  "language_info": {
   "name": "python"
  }
 },
 "nbformat": 4,
 "nbformat_minor": 2
}