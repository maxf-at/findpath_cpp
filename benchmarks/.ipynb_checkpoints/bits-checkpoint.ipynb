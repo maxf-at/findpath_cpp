{
 "cells": [
  {
   "cell_type": "code",
   "execution_count": 11,
   "metadata": {},
   "outputs": [
    {
     "name": "stdout",
     "output_type": "stream",
     "text": [
      "1289225721546585497665536\n",
      "100010001000000010001000100000000000000000000000000000000000000000000000000000000\n",
      "0b11111111\n"
     ]
    }
   ],
   "source": [
    "input_s = \"(((.(((......))).)))\"\n",
    "input_s = \"((.)\"\n",
    "\n",
    "output = 0\n",
    "\n",
    "for i, char in enumerate(input_s):\n",
    "    \n",
    "    if char == \"(\":\n",
    "        output += 1\n",
    "    output = output << 4\n",
    "\n",
    "\n",
    "    \n",
    "print (output)\n",
    "print (f\"{output:b}\")\n",
    "\n",
    "print (bin(255))"
   ]
  }
 ],
 "metadata": {
  "kernelspec": {
   "display_name": "Python 3",
   "language": "python",
   "name": "python3"
  },
  "language_info": {
   "codemirror_mode": {
    "name": "ipython",
    "version": 3
   },
   "file_extension": ".py",
   "mimetype": "text/x-python",
   "name": "python",
   "nbconvert_exporter": "python",
   "pygments_lexer": "ipython3",
   "version": "3.8.6"
  }
 },
 "nbformat": 4,
 "nbformat_minor": 4
}
